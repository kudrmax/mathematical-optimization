{
 "cells": [
  {
   "cell_type": "code",
   "execution_count": 72,
   "outputs": [],
   "source": [
    "# требования (потом удалить ячейку)\n",
    "\n",
    "# (a) Название метода\n",
    "# (b) Номер итерации\n",
    "# (c) Подписанные значения на данной итерации\n",
    "#          Point: [x_k,y_k], Gradient: [1,2]\n",
    "# (d) Итоговое количество итераций\n",
    "# (e) Точка численного глобального минимума\n",
    "\n",
    "# This function calculates the gradient.\n",
    "# Input: coordinates (x,y)\n",
    "# Output: vector of gradient at this point"
   ],
   "metadata": {
    "collapsed": false
   }
  },
  {
   "cell_type": "code",
   "execution_count": 49,
   "outputs": [],
   "source": [
    "# библиотеки\n",
    "\n",
    "import numpy as np\n",
    "import sympy as sp\n",
    "from scipy.optimize import minimize_scalar"
   ],
   "metadata": {
    "collapsed": false
   }
  },
  {
   "cell_type": "code",
   "execution_count": 50,
   "outputs": [],
   "source": [
    "# глобальные переменные\n",
    "\n",
    "x, y = sp.symbols('x y')\n",
    "X = sp.Matrix([x, y])  # вектор из переменных\n",
    "alpha = sp.symbols('alpha')\n",
    "f = 1.5 * y ** 2 + x ** 2 + y - x + 3  # функция\n",
    "grad = sp.Matrix([sp.diff(f, X_i) for X_i in X])  # градиент\n",
    "start_point = sp.Matrix([0.4, -0.23])\n",
    "eps = 0.01\n",
    "\n",
    "anser_point = sp.lambdify"
   ],
   "metadata": {
    "collapsed": false
   }
  },
  {
   "cell_type": "code",
   "execution_count": 61,
   "outputs": [],
   "source": [
    "# В третьей ячейке должны быть определены все необходимые функции с описанием и понятными названиями\n",
    "\n",
    "def stopping_criteria(x_next):\n",
    "    \"\"\"\n",
    "    Функция, возвращающая true, если критерий остановки выполнен\n",
    "    \"\"\"\n",
    "    return np.max([sp.diff(f, x_i).subs(zip(X, x_next)) for x_i in X]) < eps\n",
    "\n",
    "\n",
    "def print_data(X_point, k):\n",
    "    print(\"Номер итерации: \", k)\n",
    "    print(\"Point: \", list(X_point))\n",
    "    print(\"Gradient: \", list(grad.subs(zip(X, X_point))))\n",
    "    print()\n",
    "\n",
    "\n",
    "def calc_new_point_steepest_descent_gradient(x_curr):\n",
    "    \"\"\"\n",
    "    Вычисление следуюшего шага методом наискорейшего градинетного спуска\n",
    "    \"\"\"\n",
    "    x_next = x_curr + (grad * sp.Matrix([alpha])).subs(zip(X, x_curr))  # находим новую точку\n",
    "    alpha_min = minimize_scalar(sp.lambdify([alpha], f.subs(zip(X, x_next)))).x  # минимизируем alpha\n",
    "    x_next = x_next.subs(alpha, alpha_min)  # подставляем alpha\n",
    "    return x_next\n",
    "\n",
    "\n",
    "def steepest_descent_gradient():\n",
    "    \"\"\"\n",
    "    Функция, для нахождения корня уравнения методом наискорейшего градинетного спуска\n",
    "    \"\"\"\n",
    "    print(\"Метод наискорейшего градиентного спуска\\n\")\n",
    "    print_data(start_point, 0)\n",
    "\n",
    "    k = 0\n",
    "    X_next = sp.Matrix(start_point)\n",
    "\n",
    "    while True:  # цикл do-while\n",
    "        X_curr = X_next\n",
    "\n",
    "        X_next = calc_new_point_steepest_descent_gradient(X_curr)  # вычисление новой точки\n",
    "        k += 1  # считаем кол-во итераций\n",
    "        print_data(X_next, k)\n",
    "\n",
    "        if stopping_criteria(X_next):\n",
    "            print(\"Всего итераций: \", k)\n",
    "            print(\"Point: \", list(X_next))\n",
    "            print(\"Погрешность: \", list)\n",
    "            print()\n",
    "        return X_next"
   ],
   "metadata": {
    "collapsed": false
   }
  },
  {
   "cell_type": "code",
   "execution_count": 62,
   "outputs": [],
   "source": [
    "def conjugate_gradient():\n",
    "    # глобальные переменные\n",
    "\n",
    "    # A = sp.Matrix([[0.75, 0], [0, 0.5]])\n",
    "    A = sp.Matrix([[1000, 2], [3, 4]])\n",
    "    mA = sp.Matrix(A)\n",
    "    x_next = sp.Matrix(start_point)\n",
    "    h_curr = None\n",
    "    while True:\n",
    "        h_next = -grad.subs(zip(X, x_next))\n",
    "        if h_curr is not None:\n",
    "            c = ((mA * h_curr).T * grad.subs(zip(X, x_next)))[-1] / ((mA * h_curr).T * h_curr)[-1]\n",
    "            h_next += c * h_curr\n",
    "        x_next = x_next + (h_next * alpha)\n",
    "\n",
    "        a_val = sp.solve(sp.diff(f.subs(zip(X, x_next)), alpha))[0]\n",
    "        x_next = x_next.subs(alpha, a_val)\n",
    "        h_curr = h_next\n",
    "\n",
    "        if stopping_criteria(x_next):\n",
    "            return x_next\n",
    "\n",
    "    # Возвращаем точку, значение\n",
    "    # return xcur, float(quadr.subs(zip(x, xcur)))\n",
    "\n",
    "    # return True"
   ],
   "metadata": {
    "collapsed": false
   }
  },
  {
   "cell_type": "code",
   "execution_count": 63,
   "outputs": [
    {
     "name": "stdout",
     "output_type": "stream",
     "text": [
      "Метод наискорейшего градиентного спуска\n",
      "\n",
      "Номер итерации:  0\n",
      "Point:  [0.400000000000000, -0.230000000000000]\n",
      "Gradient:  [-0.200000000000000, 0.310000000000000]\n",
      "\n",
      "Номер итерации:  1\n",
      "Point:  [0.473907140917730, -0.344556068422482]\n",
      "Gradient:  [-0.0521857181645398, -0.0336682052674449]\n",
      "\n",
      "Всего итераций:  1\n",
      "Point:  [0.473907140917730, -0.344556068422482]\n",
      "Погрешность:  <class 'list'>\n",
      "\n"
     ]
    },
    {
     "data": {
      "text/plain": "Matrix([\n[  0.47390714091773],\n[-0.344556068422482]])",
      "text/latex": "$\\displaystyle \\left[\\begin{matrix}0.47390714091773\\\\-0.344556068422482\\end{matrix}\\right]$"
     },
     "execution_count": 63,
     "metadata": {},
     "output_type": "execute_result"
    }
   ],
   "source": [
    "# Метод наискорейшего спуска\n",
    "\n",
    "steepest_descent_gradient()\n",
    "\n",
    "# print(\"steepest_descent_gradient:\\n\", conjugate_gradient())\n",
    "# print(\"conjugate_gradient:\\n\", list(conjugate_gradient()))"
   ],
   "metadata": {
    "collapsed": false
   }
  },
  {
   "cell_type": "code",
   "execution_count": null,
   "outputs": [],
   "source": [],
   "metadata": {
    "collapsed": false
   }
  }
 ],
 "metadata": {
  "kernelspec": {
   "display_name": "Python 3",
   "language": "python",
   "name": "python3"
  },
  "language_info": {
   "codemirror_mode": {
    "name": "ipython",
    "version": 2
   },
   "file_extension": ".py",
   "mimetype": "text/x-python",
   "name": "python",
   "nbconvert_exporter": "python",
   "pygments_lexer": "ipython2",
   "version": "2.7.6"
  }
 },
 "nbformat": 4,
 "nbformat_minor": 0
}
