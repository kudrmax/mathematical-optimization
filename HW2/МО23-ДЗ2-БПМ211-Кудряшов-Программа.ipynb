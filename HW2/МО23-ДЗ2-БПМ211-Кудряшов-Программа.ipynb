{
 "cells": [
  {
   "cell_type": "code",
   "execution_count": 126,
   "outputs": [],
   "source": [
    "# с семинара\n",
    "\n",
    "capital = 100  # в тыс. руб.\n",
    "step = 10\n",
    "profit_of_investment = [[0, 7, 13, 20, 33, 35],\n",
    "                        [0, 8, 12, 21, 28, 40],\n",
    "                        [0, 10, 11, 19, 30, 34],\n",
    "                        [0, 6, 9, 24, 30, 36]]"
   ],
   "metadata": {
    "collapsed": false
   }
  },
  {
   "cell_type": "code",
   "execution_count": 131,
   "outputs": [],
   "source": [
    "# my test case\n",
    "\n",
    "capital = 50  # в тыс. руб.\n",
    "step = 10\n",
    "profit_of_investment = [[0, 1],\n",
    "                        [0, 1, 2, 3],\n",
    "                        [0, 1, 2]]"
   ],
   "metadata": {
    "collapsed": false
   }
  },
  {
   "cell_type": "code",
   "execution_count": 122,
   "outputs": [],
   "source": [
    "# мой вариант\n",
    "\n",
    "capital = 700  # в тыс. руб.\n",
    "step = 100\n",
    "profit_of_investment = [[0, 28, 45, 65, 78, 90, 102, 113],\n",
    "                        [0, 25, 41, 55, 65, 75, 80, 85],\n",
    "                        [0, 15, 25, 40, 50, 62, 73, 82],\n",
    "                        [0, 20, 33, 42, 48, 53, 56, 58]]\n",
    "# profit_of_investment = [[0, 28, 45, 65, 100, 0],\n",
    "#                         [0, 25, 41, 55, 65],\n",
    "#                         [0, 15, 25, 40, 50, 62, 73, 82],\n",
    "#                         [0, 20, 33, 42]]"
   ],
   "metadata": {
    "collapsed": false
   }
  },
  {
   "cell_type": "code",
   "execution_count": 150,
   "outputs": [],
   "source": [
    "# my test case\n",
    "\n",
    "capital = 50  # в тыс. руб.\n",
    "step = 10\n",
    "profit_of_investment = [[0, 1, 2],\n",
    "                        [0, 1],\n",
    "                        [0]]"
   ],
   "metadata": {
    "collapsed": false
   }
  },
  {
   "cell_type": "code",
   "execution_count": 151,
   "outputs": [],
   "source": [
    "def calc_possible_u(profit_of_investment, step):\n",
    "    \"\"\"\n",
    "    Считаем возможные управления U_matrix. k-строка соответствует k-ому шагу.\n",
    "    :param profit_of_investment: лист из листов с доходом от предприятий\n",
    "    :param step: шаг с которым меняются управления\n",
    "    :return: лист из листов возможных управлений\n",
    "    \"\"\"\n",
    "    U_matrix = []\n",
    "    for k in range(0, len(profit_of_investment)):  # идем по предприятиям\n",
    "        max_u_index = len(profit_of_investment[k])\n",
    "        U = [i * step for i in range(max_u_index)]  # заполняем строку матрицы\n",
    "        U_matrix.append(U)  # добавляем строку в матрицу\n",
    "    return U_matrix\n",
    "\n",
    "\n",
    "def calc_possible_x(profit_of_investment, step):\n",
    "    \"\"\"\n",
    "    Считаем возможные состояния X_matrix. k-строка соответствует k-ому шагу.\n",
    "    :param profit_of_investment: лист из листов с доходом от предприятий\n",
    "    :param step: шаг с которым меняются управления\n",
    "    :return:\n",
    "    \"\"\"\n",
    "    X_matrix = []\n",
    "    U_matrix = calc_possible_u(profit_of_investment, step)\n",
    "    x_initial = capital\n",
    "    X_matrix.append([x_initial])\n",
    "    for k in range(1, len(profit_of_investment)):  # идем по предприятиям\n",
    "        # посчитаем все возможные состояния после того, как подействуем управлением u на k шаге на состояние x после k-1 шага\n",
    "        X = []\n",
    "        for x in X_matrix[k - 1]:\n",
    "            for u in U_matrix[k]:\n",
    "                X.append(x - u)\n",
    "        X = list(set(X))  # удалим дубликаты\n",
    "        X = sorted(X)  # отсортируем\n",
    "        X = [x for x in X if x >= 0]  # уберем отрицательные значения\n",
    "        X_matrix.append(X)\n",
    "    return X_matrix\n",
    "\n",
    "\n",
    "def print_for_find_maximum_profit(profit, paths):\n",
    "    for i in range(1, len(paths) + 1):\n",
    "        print(\"Variant {0}:\".format(i))\n",
    "        u = paths[i - 1]\n",
    "        for k in range(0, len(u)):\n",
    "            print(\"It should be spent {0} on company {1}\".format(u[k], k + 1))\n",
    "    print(\"Total profit is {0}\".format(profit))\n",
    "\n",
    "\n",
    "def find_maximum_profit(profit_matrix, capital):\n",
    "    \"\"\"\n",
    "    :param profit_matrix: лист из листов с доходом от предприятий\n",
    "    :param capital: начальный капитал\n",
    "    :return: словарь, в котором хранится максимальный прибыли и массив из последовательнойтей управлений, которые приведут к максимальное прибыли\n",
    "    \"\"\"\n",
    "\n",
    "    # заполняем переменные, которые понядобятся нам для вычисления\n",
    "    U_matrix = calc_possible_u(profit_matrix, step)  # возможные управления\n",
    "    X_matrix = calc_possible_x(profit_matrix, step)  # возможные состояния\n",
    "    print(\"U_matrix: \", U_matrix)\n",
    "    print(\"X_matrix: \", X_matrix)\n",
    "    num_companies = len(profit_matrix)  # кол-во компаний\n",
    "    F = {}  # хеш-таблица, в которой мы храним все значения функции Беллмана\n",
    "\n",
    "    # идем от (num_companies - 1) до 0\n",
    "    for k in range(num_companies - 1, -1, -1):\n",
    "\n",
    "        # # заполняем лист возможных состояний и управлений\n",
    "        X = [i for i in X_matrix[k]]  # заполняем лист возможных x (состояний)\n",
    "        U = [i for i in U_matrix[k]]  # заполняем лист возможных u (управлений)\n",
    "\n",
    "        #идем по возможным состояниям\n",
    "        for x in X:\n",
    "\n",
    "            # перебираем все возможные управления\n",
    "            w_list = []\n",
    "            for u in U:\n",
    "                if u > x:  # если наше управление предполагает траты большие, чем у нас есть денег\n",
    "                    break  # то значит такое управление невалидно => выходим из цикла\n",
    "                # if not x - u in X: # если наше управление предполагает траты большие, чем у нас есть денег\n",
    "                #     break # то значит такое управление невалидно => выходим из цикла\n",
    "                if k == num_companies - 1:  # если мы на шаге, соответсвующему последней компании\n",
    "                    w_list.append([profit_matrix[k][U.index(u)], u])  # сохраняем и значение F, и управление\n",
    "                else:\n",
    "                    w_list.append([profit_matrix[k][U.index(u)] + F[(k + 1, x - u)][\"w\"], u])\n",
    "\n",
    "            # ищем максимальную прибыль\n",
    "            w_max = 0  # максимальная прибыль\n",
    "            for w, u in w_list:\n",
    "                if w > w_max:\n",
    "                    w_max = w\n",
    "            u_max_list = []  # управления, при которых у нас достигается максимальная прибыль\n",
    "            for w, u in w_list:  # сохраняем все возможные управления, соответствующие максимальное прибыли\n",
    "                if w == w_max:\n",
    "                    u_max_list.append(u)\n",
    "\n",
    "            # добавляем значения функции Беллмана\n",
    "            F[(k, x)] = {\n",
    "                \"w\": w_max,\n",
    "                \"u\": u_max_list\n",
    "            }\n",
    "\n",
    "    paths = [{  # лист из возможных управлений, которые привелут к максимальной прибыли\n",
    "        \"x\": capital,\n",
    "        \"u\": []\n",
    "    }]\n",
    "    for k in range(0, num_companies):  # обход графа в ширину\n",
    "        new_paths = []\n",
    "        for path in paths:\n",
    "            x_of_path = path[\"x\"]\n",
    "            u_of_path = path[\"u\"]\n",
    "            U = F[(k, x_of_path)][\"u\"]\n",
    "            for u in U:\n",
    "                new_paths.append({\n",
    "                    \"x\": x_of_path - u,\n",
    "                    \"u\": [*u_of_path, u]\n",
    "                })\n",
    "        paths = new_paths\n",
    "    paths = [path[\"u\"] for path in paths]\n",
    "\n",
    "    maximum_profit = {\n",
    "        \"profit\": F[(0, capital)][\"w\"],\n",
    "        \"paths\": paths\n",
    "    }\n",
    "\n",
    "    print_for_find_maximum_profit(maximum_profit[\"profit\"], maximum_profit[\"paths\"])\n",
    "\n",
    "    return maximum_profit"
   ],
   "metadata": {
    "collapsed": false
   }
  },
  {
   "cell_type": "code",
   "execution_count": 152,
   "outputs": [
    {
     "name": "stdout",
     "output_type": "stream",
     "text": [
      "U_matrix:  [[0, 10, 20], [0, 10], [0]]\n",
      "X_matrix:  [[50], [40, 50], [40, 50]]\n"
     ]
    },
    {
     "ename": "KeyError",
     "evalue": "(2, 30)",
     "output_type": "error",
     "traceback": [
      "\u001B[0;31m---------------------------------------------------------------------------\u001B[0m",
      "\u001B[0;31mKeyError\u001B[0m                                  Traceback (most recent call last)",
      "Cell \u001B[0;32mIn[152], line 1\u001B[0m\n\u001B[0;32m----> 1\u001B[0m maximum_profit \u001B[38;5;241m=\u001B[39m \u001B[43mfind_maximum_profit\u001B[49m\u001B[43m(\u001B[49m\u001B[43mprofit_of_investment\u001B[49m\u001B[43m,\u001B[49m\u001B[43m \u001B[49m\u001B[43mcapital\u001B[49m\u001B[43m)\u001B[49m\n",
      "Cell \u001B[0;32mIn[151], line 84\u001B[0m, in \u001B[0;36mfind_maximum_profit\u001B[0;34m(profit_matrix, capital)\u001B[0m\n\u001B[1;32m     82\u001B[0m         w_list\u001B[38;5;241m.\u001B[39mappend([profit_matrix[k][U\u001B[38;5;241m.\u001B[39mindex(u)], u])  \u001B[38;5;66;03m# сохраняем и значение F, и управление\u001B[39;00m\n\u001B[1;32m     83\u001B[0m     \u001B[38;5;28;01melse\u001B[39;00m:\n\u001B[0;32m---> 84\u001B[0m         w_list\u001B[38;5;241m.\u001B[39mappend([profit_matrix[k][U\u001B[38;5;241m.\u001B[39mindex(u)] \u001B[38;5;241m+\u001B[39m \u001B[43mF\u001B[49m\u001B[43m[\u001B[49m\u001B[43m(\u001B[49m\u001B[43mk\u001B[49m\u001B[43m \u001B[49m\u001B[38;5;241;43m+\u001B[39;49m\u001B[43m \u001B[49m\u001B[38;5;241;43m1\u001B[39;49m\u001B[43m,\u001B[49m\u001B[43m \u001B[49m\u001B[43mx\u001B[49m\u001B[43m \u001B[49m\u001B[38;5;241;43m-\u001B[39;49m\u001B[43m \u001B[49m\u001B[43mu\u001B[49m\u001B[43m)\u001B[49m\u001B[43m]\u001B[49m[\u001B[38;5;124m\"\u001B[39m\u001B[38;5;124mw\u001B[39m\u001B[38;5;124m\"\u001B[39m], u])\n\u001B[1;32m     86\u001B[0m \u001B[38;5;66;03m# ищем максимальную прибыль\u001B[39;00m\n\u001B[1;32m     87\u001B[0m w_max \u001B[38;5;241m=\u001B[39m \u001B[38;5;241m0\u001B[39m  \u001B[38;5;66;03m# максимальная прибыль\u001B[39;00m\n",
      "\u001B[0;31mKeyError\u001B[0m: (2, 30)"
     ]
    }
   ],
   "source": [
    "maximum_profit = find_maximum_profit(profit_of_investment, capital)"
   ],
   "metadata": {
    "collapsed": false
   }
  },
  {
   "cell_type": "code",
   "execution_count": null,
   "outputs": [],
   "source": [],
   "metadata": {
    "collapsed": false
   }
  }
 ],
 "metadata": {
  "kernelspec": {
   "display_name": "Python 3",
   "language": "python",
   "name": "python3"
  },
  "language_info": {
   "codemirror_mode": {
    "name": "ipython",
    "version": 2
   },
   "file_extension": ".py",
   "mimetype": "text/x-python",
   "name": "python",
   "nbconvert_exporter": "python",
   "pygments_lexer": "ipython2",
   "version": "2.7.6"
  }
 },
 "nbformat": 4,
 "nbformat_minor": 0
}
