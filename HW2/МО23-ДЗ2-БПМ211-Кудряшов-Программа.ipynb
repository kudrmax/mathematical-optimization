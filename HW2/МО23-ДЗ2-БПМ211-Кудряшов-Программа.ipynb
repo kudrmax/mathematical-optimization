{
 "cells": [
  {
   "cell_type": "code",
   "execution_count": 1,
   "outputs": [],
   "source": [
    "import numpy as np"
   ],
   "metadata": {
    "collapsed": false
   }
  },
  {
   "cell_type": "code",
   "execution_count": 19,
   "outputs": [],
   "source": [
    "num_companies = 4  # кол-во компаний\n",
    "capital = 700  # в тыс. руб.\n",
    "capital_delta = 100\n",
    "profit_of_investment = np.array([[0, 28, 45, 65, 78, 90, 102, 113],\n",
    "                                 [0, 25, 41, 55, 65, 75, 80, 85],\n",
    "                                 [0, 15, 25, 40, 50, 62, 73, 82],\n",
    "                                 [0, 20, 33, 42, 48, 53, 56, 58]])\n",
    "# profit_of_investment = np.array([[0, 7, 13, 20, 33, 35],\n",
    "#                                  [0, 8, 12, 21, 28, 40],\n",
    "#                                  [0, 10, 11, 19, 30, 34],\n",
    "#                                  [0, 6, 9, 24, 30, 36]])"
   ],
   "metadata": {
    "collapsed": false
   }
  },
  {
   "cell_type": "code",
   "execution_count": 110,
   "outputs": [],
   "source": [
    "# итоговая функция\n",
    "\n",
    "def foo(num_companies, capital, A: np.array):\n",
    "    \"\"\"\n",
    "    :param num_companies: количество предприятий\n",
    "    :param capital: капитал\n",
    "    :param profit_of_investment: двумерный массив\n",
    "    :return:\n",
    "    \"\"\"\n",
    "    F = {}  # F[(k, i)] means F_k(i)\n",
    "    for k in range(num_companies - 1, -1, -1):\n",
    "        X = [i for i in range(0, capital + capital_delta, capital_delta)]  # возможные варианты x\n",
    "        for x in X:\n",
    "            if k == num_companies - 1:\n",
    "                F[(k, x)] = A[k][X.index(x)]\n",
    "            else:\n",
    "                U = [i for i in range(0, x + capital_delta, capital_delta)]  # возможные варианты u\n",
    "                F[(k, x)] = np.max([A[k][X.index(x)] + F[(k + 1, x - u)] for u in U]) # создаем массив из возможных F и находим в нем максимум\n",
    "            print(\"F[({0}, {1})] = \".format(k, x), F[(k, x)])\n",
    "\n",
    "    print(\"Answer = \", F[(0, capital)])\n",
    "\n",
    "    for i in range(1):\n",
    "        # print(\"Variant 1:\")\n",
    "        pass\n",
    "        for j in range(1):\n",
    "            # print(\"It should be spent (*amount1*) on company (*number1*)\")\n",
    "            # print(\"Total profit is (*target value*))\")\n",
    "            pass"
   ],
   "metadata": {
    "collapsed": false
   }
  },
  {
   "cell_type": "code",
   "execution_count": 111,
   "outputs": [
    {
     "name": "stdout",
     "output_type": "stream",
     "text": [
      "F[(3, 0)] =  0\n",
      "F[(3, 100)] =  20\n",
      "F[(3, 200)] =  33\n",
      "F[(3, 300)] =  42\n",
      "F[(3, 400)] =  48\n",
      "F[(3, 500)] =  53\n",
      "F[(3, 600)] =  56\n",
      "F[(3, 700)] =  58\n",
      "F[(2, 0)] =  0\n",
      "F[(2, 100)] =  35\n",
      "F[(2, 200)] =  58\n",
      "F[(2, 300)] =  82\n",
      "F[(2, 400)] =  98\n",
      "F[(2, 500)] =  115\n",
      "F[(2, 600)] =  129\n",
      "F[(2, 700)] =  140\n",
      "F[(1, 0)] =  0\n",
      "F[(1, 100)] =  60\n",
      "F[(1, 200)] =  99\n",
      "F[(1, 300)] =  137\n",
      "F[(1, 400)] =  163\n",
      "F[(1, 500)] =  190\n",
      "F[(1, 600)] =  209\n",
      "F[(1, 700)] =  225\n",
      "F[(0, 0)] =  0\n",
      "F[(0, 100)] =  88\n",
      "F[(0, 200)] =  144\n",
      "F[(0, 300)] =  202\n",
      "F[(0, 400)] =  241\n",
      "F[(0, 500)] =  280\n",
      "F[(0, 600)] =  311\n",
      "F[(0, 700)] =  338\n",
      "Answer =  338\n"
     ]
    }
   ],
   "source": [
    "foo(num_companies, capital, profit_of_investment)"
   ],
   "metadata": {
    "collapsed": false
   }
  }
 ],
 "metadata": {
  "kernelspec": {
   "display_name": "Python 3",
   "language": "python",
   "name": "python3"
  },
  "language_info": {
   "codemirror_mode": {
    "name": "ipython",
    "version": 2
   },
   "file_extension": ".py",
   "mimetype": "text/x-python",
   "name": "python",
   "nbconvert_exporter": "python",
   "pygments_lexer": "ipython2",
   "version": "2.7.6"
  }
 },
 "nbformat": 4,
 "nbformat_minor": 0
}
