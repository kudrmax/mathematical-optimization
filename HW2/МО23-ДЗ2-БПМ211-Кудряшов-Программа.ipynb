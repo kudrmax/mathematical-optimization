{
 "cells": [
  {
   "cell_type": "code",
   "execution_count": 2,
   "outputs": [],
   "source": [
    "import numpy as np"
   ],
   "metadata": {
    "collapsed": false
   }
  },
  {
   "cell_type": "code",
   "execution_count": 3,
   "outputs": [],
   "source": [
    "# с семинара\n",
    "\n",
    "num_companies = 4  # кол-во компаний\n",
    "capital = 100  # в тыс. руб.\n",
    "step = 10\n",
    "profit_of_investment = [[0, 7, 13, 20, 33, 35],\n",
    "                        [0, 8, 12, 21, 28, 40],\n",
    "                        [0, 10, 11, 19, 30, 34],\n",
    "                        [0, 6, 9, 24, 30, 36]]"
   ],
   "metadata": {
    "collapsed": false
   }
  },
  {
   "cell_type": "code",
   "execution_count": 50,
   "outputs": [],
   "source": [
    "# мой вариант\n",
    "\n",
    "num_companies = 4  # кол-во компаний\n",
    "capital = 700  # в тыс. руб.\n",
    "step = 100\n",
    "profit_of_investment = [[0, 28, 45, 65, 78, 90, 102, 113],\n",
    "                        [0, 25, 41, 55, 65, 75, 80, 85],\n",
    "                        [0, 15, 25, 40, 50, 62, 73, 82],\n",
    "                        [0, 20, 33, 42, 48, 53, 56, 58]]"
   ],
   "metadata": {
    "collapsed": false
   }
  },
  {
   "cell_type": "code",
   "execution_count": 13,
   "outputs": [],
   "source": [
    "# my test case\n",
    "\n",
    "num_companies = 3  # кол-во компаний\n",
    "capital = 50  # в тыс. руб.\n",
    "step = 10\n",
    "profit_of_investment = [[0, 1],\n",
    "                        [0, 1, 2, 3],\n",
    "                        [0, 1, 2]]"
   ],
   "metadata": {
    "collapsed": false
   }
  },
  {
   "cell_type": "code",
   "execution_count": 55,
   "outputs": [],
   "source": [
    "# Никита\n",
    "\n",
    "capital = 700\n",
    "step = 100\n",
    "num_companies = 4\n",
    "profit_of_investment = [\n",
    "    [0, 3, 18, 59, 66, 64, 72, 81],\n",
    "    [0, 8, 24, 26, 40, 42, 51, 57],\n",
    "    [0, 6, 15, 17, 31, 33, 45, 67],\n",
    "    [0, 9, 30, 45, 67, 70, 72, 74],\n",
    "]"
   ],
   "metadata": {
    "collapsed": false
   }
  },
  {
   "cell_type": "code",
   "execution_count": 56,
   "outputs": [],
   "source": [
    "def calc_possible_u(profit_of_investment, step):\n",
    "    \"\"\"\n",
    "    Считаем возможные управления U_matrix. k-строка соответствует k-ому шагу.\n",
    "    :param profit_of_investment: лист из листов с доходом от предприятий\n",
    "    :param step: шаг с которым меняются управления\n",
    "    :return: лист из листов возможных управлений\n",
    "    \"\"\"\n",
    "    U_matrix = []\n",
    "    for k in range(0, len(profit_of_investment)):  # идем по предприятиям\n",
    "        max_u_index = len(profit_of_investment[k])\n",
    "        U = [i * step for i in range(max_u_index)] # заполняем строку матрицы\n",
    "        U_matrix.append(U) # добавляем строку в матрицу\n",
    "    return U_matrix\n",
    "\n",
    "def calc_possible_x(profit_of_investment, step):\n",
    "    \"\"\"\n",
    "    Считаем возможные состояния X_matrix. k-строка соответствует k-ому шагу.\n",
    "    :param profit_of_investment: лист из листов с доходом от предприятий\n",
    "    :param step: шаг с которым меняются управления\n",
    "    :return:\n",
    "    \"\"\"\n",
    "    X_matrix = []\n",
    "    U_matrix = calc_possible_u(profit_of_investment, step)\n",
    "    x_initial = capital\n",
    "    X_matrix.append([x_initial])\n",
    "    for k in range(1, len(profit_of_investment)):  # идем по предприятиям\n",
    "        # посчитаем все возможные состояния после того, как подействуем управлением u на k шаге на состояние x после k-1 шага\n",
    "        X = []\n",
    "        for x in X_matrix[k - 1]:\n",
    "            for u in U_matrix[k]:\n",
    "                X.append(x - u)\n",
    "        X = list(set(X))  # удалим дубликаты\n",
    "        X = sorted(X)  # отсортируем\n",
    "        X = [x for x in X if x >= 0]  # уберем отрицательные значения\n",
    "        X_matrix.append(X)\n",
    "    return X_matrix\n",
    "\n",
    "def print_for_find_maximum_profit():\n",
    "    for i in range(1):\n",
    "        # print(\"Variant 1:\")\n",
    "        pass\n",
    "        for j in range(1):\n",
    "            # print(\"It should be spent (*amount1*) on company (*number1*)\")\n",
    "            # print(\"Total profit is (*target value*))\")\n",
    "            pass"
   ],
   "metadata": {
    "collapsed": false
   }
  },
  {
   "cell_type": "code",
   "execution_count": 57,
   "outputs": [],
   "source": [
    "# итоговая функция\n",
    "\n",
    "def find_maximum_profit(profit_matrix, capital):\n",
    "    U_matrix = calc_possible_u(profit_matrix, step)\n",
    "    X_matrix = calc_possible_x(profit_matrix, step)\n",
    "    num_companies = len(profit_matrix)\n",
    "    F = {} # хеш-таблицу, в которой мы храним все значения функции Беллмана\n",
    "    for k in range(num_companies - 1, -1, -1):  # идем от (num_companies - 1) до 0\n",
    "        X = [i for i in X_matrix[k]] # заполняем лист возможных x (состояний)\n",
    "        U = [i for i in U_matrix[k]]  # заполняем лист возможных u (управлений)\n",
    "        for x in X:\n",
    "\n",
    "            # перебираем все возможные управления\n",
    "            w_list = []\n",
    "            for u in U:\n",
    "                if u > x:  # если наше управление предполагает страты большие, чем у нас есть денег\n",
    "                    break  # то значит такое управление невалидно => выходим из цикла\n",
    "                if k == num_companies - 1:  # если мы на шаге, соответсвующему последней компании\n",
    "                    w_list.append([profit_matrix[k][U.index(u)], u])  # сохраняем и значение F, и управление\n",
    "                else:\n",
    "                    w_list.append([profit_matrix[k][U.index(u)] + F[(k + 1, x - u)][\"w\"], u])\n",
    "\n",
    "            # ищем максимальную прибыль\n",
    "            w_max = 0  # максимальная прибыль\n",
    "            for w, u in w_list:\n",
    "                if w > w_max:\n",
    "                    w_max = w\n",
    "            u_max_list = []  # управления, при которых у нас достигается максимальная прибыль\n",
    "            for w, u in w_list:  # сохраняем все возможные управления, соответствующие максимальное прибыли\n",
    "                if w == w_max:\n",
    "                    u_max_list.append(u)\n",
    "\n",
    "            # добавляем значения функции Беллмана\n",
    "            F[(k, x)] = {\n",
    "                \"w\": w_max,\n",
    "                \"u\": u_max_list\n",
    "            }\n",
    "            print(\"F({0}, {1}) = \".format(k, x), F[(k, x)])\n",
    "\n",
    "    print(\"Answer = \", F[(0, capital)])\n",
    "\n",
    "    paths = [{ # лист из возможных управлений, которые привелут к максимальной прибыли\n",
    "        \"x\": capital,\n",
    "        \"u\": []\n",
    "    }]\n",
    "    for k in range(0, num_companies): # обход графа в ширину\n",
    "        new_paths = []\n",
    "        for path in paths:\n",
    "            x_of_path = path[\"x\"]\n",
    "            u_of_path = path[\"u\"]\n",
    "            U = F[(k, x_of_path)][\"u\"]\n",
    "            for u in U:\n",
    "                new_paths.append({\n",
    "                    \"x\": x_of_path - u,\n",
    "                    \"u\": [*u_of_path, u]\n",
    "                })\n",
    "        paths = new_paths\n",
    "    paths = [path[\"u\"] for path in paths]\n",
    "\n",
    "    answer = {\n",
    "        \"bellman\": F[(0, capital)][\"w\"],\n",
    "        \"paths\": paths\n",
    "    }\n",
    "    return answer"
   ],
   "metadata": {
    "collapsed": false
   }
  },
  {
   "cell_type": "code",
   "execution_count": 58,
   "outputs": [
    {
     "name": "stdout",
     "output_type": "stream",
     "text": [
      "F(3, 0) =  {'w': 0, 'u': [0]}\n",
      "F(3, 100) =  {'w': 9, 'u': [100]}\n",
      "F(3, 200) =  {'w': 30, 'u': [200]}\n",
      "F(3, 300) =  {'w': 45, 'u': [300]}\n",
      "F(3, 400) =  {'w': 67, 'u': [400]}\n",
      "F(3, 500) =  {'w': 70, 'u': [500]}\n",
      "F(3, 600) =  {'w': 72, 'u': [600]}\n",
      "F(3, 700) =  {'w': 74, 'u': [700]}\n",
      "F(2, 0) =  {'w': 0, 'u': [0]}\n",
      "F(2, 100) =  {'w': 9, 'u': [0]}\n",
      "F(2, 200) =  {'w': 30, 'u': [0]}\n",
      "F(2, 300) =  {'w': 45, 'u': [0]}\n",
      "F(2, 400) =  {'w': 67, 'u': [0]}\n",
      "F(2, 500) =  {'w': 73, 'u': [100]}\n",
      "F(2, 600) =  {'w': 82, 'u': [200]}\n",
      "F(2, 700) =  {'w': 85, 'u': [200]}\n",
      "F(1, 0) =  {'w': 0, 'u': [0]}\n",
      "F(1, 100) =  {'w': 9, 'u': [0]}\n",
      "F(1, 200) =  {'w': 30, 'u': [0]}\n",
      "F(1, 300) =  {'w': 45, 'u': [0]}\n",
      "F(1, 400) =  {'w': 67, 'u': [0]}\n",
      "F(1, 500) =  {'w': 75, 'u': [100]}\n",
      "F(1, 600) =  {'w': 91, 'u': [200]}\n",
      "F(1, 700) =  {'w': 97, 'u': [200]}\n",
      "F(0, 700) =  {'w': 126, 'u': [300]}\n",
      "Answer =  {'w': 126, 'u': [300]}\n"
     ]
    },
    {
     "data": {
      "text/plain": "{'bellman': 126, 'paths': [[300, 0, 0, 400]]}"
     },
     "execution_count": 58,
     "metadata": {},
     "output_type": "execute_result"
    }
   ],
   "source": [
    "maximum_profit = find_maximum_profit(profit_of_investment, capital)\n",
    "maximum_profit"
   ],
   "metadata": {
    "collapsed": false
   }
  },
  {
   "cell_type": "code",
   "execution_count": null,
   "outputs": [],
   "source": [],
   "metadata": {
    "collapsed": false
   }
  }
 ],
 "metadata": {
  "kernelspec": {
   "display_name": "Python 3",
   "language": "python",
   "name": "python3"
  },
  "language_info": {
   "codemirror_mode": {
    "name": "ipython",
    "version": 2
   },
   "file_extension": ".py",
   "mimetype": "text/x-python",
   "name": "python",
   "nbconvert_exporter": "python",
   "pygments_lexer": "ipython2",
   "version": "2.7.6"
  }
 },
 "nbformat": 4,
 "nbformat_minor": 0
}
