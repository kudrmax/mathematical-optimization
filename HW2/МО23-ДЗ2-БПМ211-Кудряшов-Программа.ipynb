{
 "cells": [
  {
   "cell_type": "code",
   "execution_count": 1,
   "outputs": [],
   "source": [
    "import numpy as np"
   ],
   "metadata": {
    "collapsed": false
   }
  },
  {
   "cell_type": "code",
   "execution_count": 57,
   "outputs": [],
   "source": [
    "# с семинара\n",
    "\n",
    "num_companies = 4  # кол-во компаний\n",
    "capital = 100  # в тыс. руб.\n",
    "step = 10\n",
    "profit_of_investment = [[0, 7, 13, 20, 33, 35],\n",
    "                        [0, 8, 12, 21, 28, 40],\n",
    "                        [0, 10, 11, 19, 30, 34],\n",
    "                        [0, 6, 9, 24, 30]]"
   ],
   "metadata": {
    "collapsed": false
   }
  },
  {
   "cell_type": "code",
   "execution_count": 58,
   "outputs": [],
   "source": [
    "# из моего варианта\n",
    "\n",
    "num_companies = 4  # кол-во компаний\n",
    "capital = 700  # в тыс. руб.\n",
    "step = 100\n",
    "profit_of_investment = [[0, 28, 45, 65, 78, 90, 102, 113],\n",
    "                        [0, 25, 41, 55, 65, 75, 80, 85],\n",
    "                        [0, 15, 25, 40, 50, 62, 73, 82],\n",
    "                        [0, 20, 33, 42, 48, 53, 56, 58]]\n",
    "X_matrix = [[i for i in range(0, min(capital + step, step * len(profit_of_investment[j])), step)] for j in\n",
    "            range(0, len(profit_of_investment))] # массив из массивов индексов возможных вложений (для не квадратной матрицы profit_of_investment)"
   ],
   "metadata": {
    "collapsed": false
   }
  },
  {
   "cell_type": "code",
   "execution_count": 43,
   "outputs": [],
   "source": [
    "# итоговая функция\n",
    "\n",
    "def foo(num_companies, capital, A: np.array):\n",
    "    \"\"\"\n",
    "    :param num_companies: количество предприятий\n",
    "    :param capital: капитал\n",
    "    :param profit_of_investment: двумерный массив\n",
    "    :return:\n",
    "    \"\"\"\n",
    "    F = {}  # F[(k, i)] means F_k(i)\n",
    "    for k in range(num_companies - 1, -1, -1):  # идем от (num_companies - 1) до 0\n",
    "        X = [i for i in range(0, capital + step, step)]  # возможные варианты x\n",
    "        X_indexes = [i for i in range(0, capital + step, step)]  # возможные варианты индексов X\n",
    "        print(\"Расчет F(k = {0})\".format(k))\n",
    "        print(\"При X = {0}\".format(X))\n",
    "        for x in X:\n",
    "            if X.index(x) < len(A[k]):\n",
    "                if k == num_companies - 1:\n",
    "                    F[(k, x)] = A[k][X.index(x)]\n",
    "                else:\n",
    "                    U = [i for i in range(0, x + step, step)]  # возможные варианты u\n",
    "                    print(\"При U = {0}\".format(U))\n",
    "                    print(\"max({0})\".format([A[k][X.index(x)] + F[(k + 1, x - u)] for u in U]))\n",
    "                    print(\"Debug: \", k, X.index(x), A[k][X.index(x)], F[(k + 1, x)])\n",
    "                    F[(k, x)] = np.max([A[k][u] + F[(k + 1, x - u)] for u in\n",
    "                                        U])  # создаем массив из возможных F и находим в нем максимум\n",
    "                print(\"F[({0}, {1})] = \".format(k, x), F[(k, x)])\n",
    "\n",
    "    print(\"Answer = \", F[(0, capital)])\n",
    "\n",
    "    for i in range(1):\n",
    "        # print(\"Variant 1:\")\n",
    "        pass\n",
    "        for j in range(1):\n",
    "            # print(\"It should be spent (*amount1*) on company (*number1*)\")\n",
    "            # print(\"Total profit is (*target value*))\")\n",
    "            pass"
   ],
   "metadata": {
    "collapsed": false
   }
  },
  {
   "cell_type": "code",
   "execution_count": 44,
   "outputs": [
    {
     "name": "stdout",
     "output_type": "stream",
     "text": [
      "Расчет F(k = 3)\n",
      "При X = [0, 100, 200, 300, 400, 500, 600, 700]\n",
      "F[(3, 0)] =  0\n",
      "F[(3, 100)] =  20\n",
      "F[(3, 200)] =  33\n",
      "F[(3, 300)] =  42\n",
      "F[(3, 400)] =  48\n",
      "F[(3, 500)] =  53\n",
      "F[(3, 600)] =  56\n",
      "F[(3, 700)] =  58\n",
      "Расчет F(k = 2)\n",
      "При X = [0, 100, 200, 300, 400, 500, 600, 700]\n",
      "При U = [0]\n",
      "max([0])\n",
      "Debug:  2 0 0 0\n",
      "F[(2, 0)] =  0\n",
      "При U = [0, 100]\n",
      "max([35, 15])\n",
      "Debug:  2 1 15 20\n"
     ]
    },
    {
     "ename": "IndexError",
     "evalue": "index 100 is out of bounds for axis 0 with size 8",
     "output_type": "error",
     "traceback": [
      "\u001B[0;31m---------------------------------------------------------------------------\u001B[0m",
      "\u001B[0;31mIndexError\u001B[0m                                Traceback (most recent call last)",
      "Cell \u001B[0;32mIn[44], line 1\u001B[0m\n\u001B[0;32m----> 1\u001B[0m \u001B[43mfoo\u001B[49m\u001B[43m(\u001B[49m\u001B[43mnum_companies\u001B[49m\u001B[43m,\u001B[49m\u001B[43m \u001B[49m\u001B[43mcapital\u001B[49m\u001B[43m,\u001B[49m\u001B[43m \u001B[49m\u001B[43mprofit_of_investment\u001B[49m\u001B[43m)\u001B[49m\n",
      "Cell \u001B[0;32mIn[43], line 24\u001B[0m, in \u001B[0;36mfoo\u001B[0;34m(num_companies, capital, A)\u001B[0m\n\u001B[1;32m     22\u001B[0m                 \u001B[38;5;28mprint\u001B[39m(\u001B[38;5;124m\"\u001B[39m\u001B[38;5;124mmax(\u001B[39m\u001B[38;5;132;01m{0}\u001B[39;00m\u001B[38;5;124m)\u001B[39m\u001B[38;5;124m\"\u001B[39m\u001B[38;5;241m.\u001B[39mformat([A[k][X\u001B[38;5;241m.\u001B[39mindex(x)] \u001B[38;5;241m+\u001B[39m F[(k \u001B[38;5;241m+\u001B[39m \u001B[38;5;241m1\u001B[39m, x \u001B[38;5;241m-\u001B[39m u)] \u001B[38;5;28;01mfor\u001B[39;00m u \u001B[38;5;129;01min\u001B[39;00m U]))\n\u001B[1;32m     23\u001B[0m                 \u001B[38;5;28mprint\u001B[39m(\u001B[38;5;124m\"\u001B[39m\u001B[38;5;124mDebug: \u001B[39m\u001B[38;5;124m\"\u001B[39m, k, X\u001B[38;5;241m.\u001B[39mindex(x), A[k][X\u001B[38;5;241m.\u001B[39mindex(x)], F[(k \u001B[38;5;241m+\u001B[39m \u001B[38;5;241m1\u001B[39m, x)])\n\u001B[0;32m---> 24\u001B[0m                 F[(k, x)] \u001B[38;5;241m=\u001B[39m np\u001B[38;5;241m.\u001B[39mmax(\u001B[43m[\u001B[49m\u001B[43mA\u001B[49m\u001B[43m[\u001B[49m\u001B[43mk\u001B[49m\u001B[43m]\u001B[49m\u001B[43m[\u001B[49m\u001B[43mu\u001B[49m\u001B[43m]\u001B[49m\u001B[43m \u001B[49m\u001B[38;5;241;43m+\u001B[39;49m\u001B[43m \u001B[49m\u001B[43mF\u001B[49m\u001B[43m[\u001B[49m\u001B[43m(\u001B[49m\u001B[43mk\u001B[49m\u001B[43m \u001B[49m\u001B[38;5;241;43m+\u001B[39;49m\u001B[43m \u001B[49m\u001B[38;5;241;43m1\u001B[39;49m\u001B[43m,\u001B[49m\u001B[43m \u001B[49m\u001B[43mx\u001B[49m\u001B[43m \u001B[49m\u001B[38;5;241;43m-\u001B[39;49m\u001B[43m \u001B[49m\u001B[43mu\u001B[49m\u001B[43m)\u001B[49m\u001B[43m]\u001B[49m\u001B[43m \u001B[49m\u001B[38;5;28;43;01mfor\u001B[39;49;00m\u001B[43m \u001B[49m\u001B[43mu\u001B[49m\u001B[43m \u001B[49m\u001B[38;5;129;43;01min\u001B[39;49;00m\u001B[43m \u001B[49m\u001B[43mU\u001B[49m\u001B[43m]\u001B[49m) \u001B[38;5;66;03m# создаем массив из возможных F и находим в нем максимум\u001B[39;00m\n\u001B[1;32m     25\u001B[0m             \u001B[38;5;28mprint\u001B[39m(\u001B[38;5;124m\"\u001B[39m\u001B[38;5;124mF[(\u001B[39m\u001B[38;5;132;01m{0}\u001B[39;00m\u001B[38;5;124m, \u001B[39m\u001B[38;5;132;01m{1}\u001B[39;00m\u001B[38;5;124m)] = \u001B[39m\u001B[38;5;124m\"\u001B[39m\u001B[38;5;241m.\u001B[39mformat(k, x), F[(k, x)])\n\u001B[1;32m     27\u001B[0m \u001B[38;5;28mprint\u001B[39m(\u001B[38;5;124m\"\u001B[39m\u001B[38;5;124mAnswer = \u001B[39m\u001B[38;5;124m\"\u001B[39m, F[(\u001B[38;5;241m0\u001B[39m, capital)])\n",
      "Cell \u001B[0;32mIn[43], line 24\u001B[0m, in \u001B[0;36m<listcomp>\u001B[0;34m(.0)\u001B[0m\n\u001B[1;32m     22\u001B[0m                 \u001B[38;5;28mprint\u001B[39m(\u001B[38;5;124m\"\u001B[39m\u001B[38;5;124mmax(\u001B[39m\u001B[38;5;132;01m{0}\u001B[39;00m\u001B[38;5;124m)\u001B[39m\u001B[38;5;124m\"\u001B[39m\u001B[38;5;241m.\u001B[39mformat([A[k][X\u001B[38;5;241m.\u001B[39mindex(x)] \u001B[38;5;241m+\u001B[39m F[(k \u001B[38;5;241m+\u001B[39m \u001B[38;5;241m1\u001B[39m, x \u001B[38;5;241m-\u001B[39m u)] \u001B[38;5;28;01mfor\u001B[39;00m u \u001B[38;5;129;01min\u001B[39;00m U]))\n\u001B[1;32m     23\u001B[0m                 \u001B[38;5;28mprint\u001B[39m(\u001B[38;5;124m\"\u001B[39m\u001B[38;5;124mDebug: \u001B[39m\u001B[38;5;124m\"\u001B[39m, k, X\u001B[38;5;241m.\u001B[39mindex(x), A[k][X\u001B[38;5;241m.\u001B[39mindex(x)], F[(k \u001B[38;5;241m+\u001B[39m \u001B[38;5;241m1\u001B[39m, x)])\n\u001B[0;32m---> 24\u001B[0m                 F[(k, x)] \u001B[38;5;241m=\u001B[39m np\u001B[38;5;241m.\u001B[39mmax([\u001B[43mA\u001B[49m\u001B[43m[\u001B[49m\u001B[43mk\u001B[49m\u001B[43m]\u001B[49m\u001B[43m[\u001B[49m\u001B[43mu\u001B[49m\u001B[43m]\u001B[49m \u001B[38;5;241m+\u001B[39m F[(k \u001B[38;5;241m+\u001B[39m \u001B[38;5;241m1\u001B[39m, x \u001B[38;5;241m-\u001B[39m u)] \u001B[38;5;28;01mfor\u001B[39;00m u \u001B[38;5;129;01min\u001B[39;00m U]) \u001B[38;5;66;03m# создаем массив из возможных F и находим в нем максимум\u001B[39;00m\n\u001B[1;32m     25\u001B[0m             \u001B[38;5;28mprint\u001B[39m(\u001B[38;5;124m\"\u001B[39m\u001B[38;5;124mF[(\u001B[39m\u001B[38;5;132;01m{0}\u001B[39;00m\u001B[38;5;124m, \u001B[39m\u001B[38;5;132;01m{1}\u001B[39;00m\u001B[38;5;124m)] = \u001B[39m\u001B[38;5;124m\"\u001B[39m\u001B[38;5;241m.\u001B[39mformat(k, x), F[(k, x)])\n\u001B[1;32m     27\u001B[0m \u001B[38;5;28mprint\u001B[39m(\u001B[38;5;124m\"\u001B[39m\u001B[38;5;124mAnswer = \u001B[39m\u001B[38;5;124m\"\u001B[39m, F[(\u001B[38;5;241m0\u001B[39m, capital)])\n",
      "\u001B[0;31mIndexError\u001B[0m: index 100 is out of bounds for axis 0 with size 8"
     ]
    }
   ],
   "source": [
    "foo(num_companies, capital, profit_of_investment)"
   ],
   "metadata": {
    "collapsed": false
   }
  },
  {
   "cell_type": "code",
   "execution_count": null,
   "outputs": [],
   "source": [],
   "metadata": {
    "collapsed": false
   }
  }
 ],
 "metadata": {
  "kernelspec": {
   "display_name": "Python 3",
   "language": "python",
   "name": "python3"
  },
  "language_info": {
   "codemirror_mode": {
    "name": "ipython",
    "version": 2
   },
   "file_extension": ".py",
   "mimetype": "text/x-python",
   "name": "python",
   "nbconvert_exporter": "python",
   "pygments_lexer": "ipython2",
   "version": "2.7.6"
  }
 },
 "nbformat": 4,
 "nbformat_minor": 0
}
