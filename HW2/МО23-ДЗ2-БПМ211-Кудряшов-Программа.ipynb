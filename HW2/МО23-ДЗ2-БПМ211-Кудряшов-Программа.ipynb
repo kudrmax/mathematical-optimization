{
 "cells": [
  {
   "cell_type": "code",
   "execution_count": 1,
   "outputs": [],
   "source": [
    "import numpy as np"
   ],
   "metadata": {
    "collapsed": false
   }
  },
  {
   "cell_type": "code",
   "execution_count": 161,
   "outputs": [],
   "source": [
    "# с семинара\n",
    "\n",
    "num_companies = 4  # кол-во компаний\n",
    "capital = 100  # в тыс. руб.\n",
    "step = 10\n",
    "profit_of_investment = [[0, 7, 13, 20, 33, 35],\n",
    "                        [0, 8, 12, 21, 28, 40],\n",
    "                        [0, 10, 11, 19, 30, 34],\n",
    "                        [0, 6, 9, 24, 30, 36]]"
   ],
   "metadata": {
    "collapsed": false
   }
  },
  {
   "cell_type": "code",
   "execution_count": 102,
   "outputs": [],
   "source": [
    "# мой вариант\n",
    "\n",
    "num_companies = 4  # кол-во компаний\n",
    "capital = 700  # в тыс. руб.\n",
    "step = 100\n",
    "profit_of_investment = [[0, 28, 45, 65, 78, 90, 102, 113],\n",
    "                        [0, 25, 41, 55, 65, 75, 80, 85],\n",
    "                        [0, 15, 25, 40, 50, 62, 73, 82],\n",
    "                        [0, 20, 33, 42, 48, 53, 56, 58]]"
   ],
   "metadata": {
    "collapsed": false
   }
  },
  {
   "cell_type": "code",
   "execution_count": 2,
   "outputs": [],
   "source": [
    "# my test case\n",
    "\n",
    "num_companies = 3  # кол-во компаний\n",
    "capital = 50  # в тыс. руб.\n",
    "step = 10\n",
    "profit_of_investment = [[0, 1],\n",
    "                        [0, 1, 2, 3],\n",
    "                        [0, 1, 2]]"
   ],
   "metadata": {
    "collapsed": false
   }
  },
  {
   "cell_type": "code",
   "execution_count": 3,
   "outputs": [
    {
     "data": {
      "text/plain": "[[0, 10], [0, 10, 20, 30], [0, 10, 20]]"
     },
     "execution_count": 3,
     "metadata": {},
     "output_type": "execute_result"
    }
   ],
   "source": [
    "# считаем возможные управления (U_matrix)\n",
    "\n",
    "U_matrix = []\n",
    "for k in range(0, num_companies): # идем по предприятиям\n",
    "    max_u_index = len(profit_of_investment[k])\n",
    "    U = [i * step for i in range(max_u_index)]\n",
    "    U_matrix.append(U)\n",
    "\n",
    "U_matrix"
   ],
   "metadata": {
    "collapsed": false
   }
  },
  {
   "cell_type": "code",
   "execution_count": 7,
   "outputs": [
    {
     "data": {
      "text/plain": "[[40, 50], [10, 20, 30, 40, 50], [0, 10, 20, 30, 40, 50]]"
     },
     "execution_count": 7,
     "metadata": {},
     "output_type": "execute_result"
    }
   ],
   "source": [
    "# считаем возможные состояния (X_matrix)\n",
    "\n",
    "X_matrix = []\n",
    "x_initial = capital\n",
    "for k in range(0, num_companies): # идем по предприятиям\n",
    "    X = []\n",
    "    if k == 0:\n",
    "        X = [x_initial - u for u in U_matrix[k]]\n",
    "    else:\n",
    "        # посчитаем все возможные состояния после того как подействуем управлением u(k) на x(k - 1)\n",
    "        X = []\n",
    "        for x in X_matrix[k - 1]:\n",
    "            for u in U_matrix[k]:\n",
    "                X.append(x - u)\n",
    "    X = list(set(X)) # удалим дубликаты\n",
    "    X = sorted(X) # отсортируем\n",
    "    X = [x for x in X if x >= 0] # уберем отрицательные значения\n",
    "\n",
    "        # min_u = min(U_matrix[k])\n",
    "        # max_u = max(U_matrix[k])\n",
    "        # min_prev_x = min(X_matrix[k - 1])\n",
    "        # max_prev_x = max(X_matrix[k - 1])\n",
    "        # X = [x for x in range (min_prev_x - max_u, max_prev_x)]\n",
    "    X_matrix.append(X)\n",
    "\n",
    "X_matrix"
   ],
   "metadata": {
    "collapsed": false
   }
  },
  {
   "cell_type": "code",
   "execution_count": 28,
   "outputs": [
    {
     "name": "stdout",
     "output_type": "stream",
     "text": [
      "Расчет F(k = 2) при X = [10, 20, 30, 40, 50]\n",
      "F(2, 10) =  [1, 10]\n",
      "F(2, 20) =  [2, 20]\n",
      "F(2, 30) =  [2, 20]\n",
      "F(2, 40) =  [2, 20]\n",
      "F(2, 50) =  [2, 20]\n",
      "Расчет F(k = 1) при X = [40, 50]\n",
      "F(1, 40) =  [4, 20]\n",
      "F(1, 50) =  [5, 30]\n",
      "Расчет F(k = 0) при X = [50]\n",
      "F(0, 50) =  [5, 0]\n",
      "Answer =  [5, 0]\n"
     ]
    }
   ],
   "source": [
    "# итоговая функция\n",
    "\n",
    "def foo(num_companies, capital, A: np.array):\n",
    "    F = {}  # F[(k, i)] means (F_k(i), U_k)\n",
    "    for k in range(num_companies - 1, -1, -1):  # идем от (num_companies - 1) до 0\n",
    "        if k == 0:\n",
    "            X = [capital]\n",
    "        else:\n",
    "            X = [i for i in X_matrix[k - 1]]\n",
    "        U = [i for i in U_matrix[k]]\n",
    "        print(\"Расчет F(k = {0}) при X = {1}\".format(k, X))\n",
    "        for x in X:\n",
    "            w_list = []\n",
    "            for u in U:\n",
    "                if u > x:\n",
    "                    break\n",
    "                if k == num_companies - 1:\n",
    "                    w_list.append(A[k][U.index(u)])\n",
    "                else:\n",
    "                    w_list.append(A[k][U.index(u)] + F[(k + 1, x - u)][0])\n",
    "            w = [val for index, val in enumerate(w_list) if val == max(w_list)] # вектор из всех максимальных значений\n",
    "            u_index = w_list.index(w[0])\n",
    "            F[(k, x)] = [w[0], U[u_index]]\n",
    "            print(\"F({0}, {1}) = \".format(k, x), F[(k, x)])\n",
    "\n",
    "    print(\"Answer = \", F[(0, capital)])\n",
    "\n",
    "    for i in range(1):\n",
    "        # print(\"Variant 1:\")\n",
    "        pass\n",
    "        for j in range(1):\n",
    "            # print(\"It should be spent (*amount1*) on company (*number1*)\")\n",
    "            # print(\"Total profit is (*target value*))\")\n",
    "            pass\n",
    "\n",
    "\n",
    "foo(num_companies, capital, profit_of_investment)"
   ],
   "metadata": {
    "collapsed": false
   }
  },
  {
   "cell_type": "code",
   "execution_count": 22,
   "outputs": [],
   "source": [],
   "metadata": {
    "collapsed": false
   }
  }
 ],
 "metadata": {
  "kernelspec": {
   "display_name": "Python 3",
   "language": "python",
   "name": "python3"
  },
  "language_info": {
   "codemirror_mode": {
    "name": "ipython",
    "version": 2
   },
   "file_extension": ".py",
   "mimetype": "text/x-python",
   "name": "python",
   "nbconvert_exporter": "python",
   "pygments_lexer": "ipython2",
   "version": "2.7.6"
  }
 },
 "nbformat": 4,
 "nbformat_minor": 0
}
