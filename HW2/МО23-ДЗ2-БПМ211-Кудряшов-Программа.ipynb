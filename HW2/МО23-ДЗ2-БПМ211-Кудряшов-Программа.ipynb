{
 "cells": [
  {
   "cell_type": "code",
   "execution_count": 175,
   "outputs": [],
   "source": [
    "# Вариант 8\n",
    "\n",
    "capital = 700  # в тыс. руб.\n",
    "step = 100\n",
    "# profit_of_investment = [[0, 28, 45, 65, 78, 90, 102, 113],\n",
    "#                         [0, 25, 41, 55, 65, 75, 80, 85],\n",
    "#                         [0, 15, 25, 40, 50, 62, 73, 82],\n",
    "#                         [0, 20, 33, 42, 48, 53, 56, 58]]\n",
    "profit_of_investment = [[0, 28, 45, 65, 100, 0],\n",
    "                        [0, 25, 41, 55, 65],\n",
    "                        [0, 15, 25, 40, 50, 62, 73, 82],\n",
    "                        [0, 20, 33, 42]]"
   ],
   "metadata": {
    "collapsed": false
   }
  },
  {
   "cell_type": "code",
   "execution_count": 171,
   "outputs": [],
   "source": [
    "# my test case\n",
    "\n",
    "capital = 50  # в тыс. руб.\n",
    "step = 10\n",
    "profit_of_investment = [[0, 1],\n",
    "                        [1, 1, 2, 3],\n",
    "                        [0, 1, 2]]"
   ],
   "metadata": {
    "collapsed": false
   }
  },
  {
   "cell_type": "code",
   "execution_count": 176,
   "outputs": [],
   "source": [
    "def calc_possible_u(profit_of_investment, step):\n",
    "    \"\"\"\n",
    "    Считаем возможные управления U_matrix. k-строка соответствует k-ому шагу.\n",
    "    :param profit_of_investment: лист из листов с доходом от предприятий\n",
    "    :param step: шаг с которым меняются управления\n",
    "    :return: лист из листов возможных управлений\n",
    "    \"\"\"\n",
    "    U_matrix = []\n",
    "    for k in range(0, len(profit_of_investment)):  # идем по предприятиям\n",
    "        max_u_index = len(profit_of_investment[k])\n",
    "        U = [i * step for i in range(max_u_index)]  # заполняем строку матрицы\n",
    "        U_matrix.append(U)  # добавляем строку в матрицу\n",
    "    return U_matrix\n",
    "\n",
    "\n",
    "def calc_possible_x(profit_of_investment, step, x_initial):\n",
    "    \"\"\"\n",
    "    Считаем возможные состояния X_matrix. k-строка соответствует k-ому шагу.\n",
    "    :param profit_of_investment: лист из листов с доходом от предприятий\n",
    "    :param step: шаг с которым меняются управления\n",
    "    :return:\n",
    "    \"\"\"\n",
    "    U_matrix = calc_possible_u(profit_of_investment, step)\n",
    "    X_matrix = []\n",
    "    X_matrix.append([x_initial])\n",
    "    for k in range(1, len(profit_of_investment)):  # идем по предприятиям\n",
    "        # посчитаем все возможные состояния после того, как подействуем управлением u на k шаге на состояние x после k-1 шага\n",
    "        X = []\n",
    "        for x in X_matrix[k - 1]:\n",
    "            for u in U_matrix[k - 1]:\n",
    "                X.append(x - u)\n",
    "        X = list(set(X))  # удалим дубликаты\n",
    "        X = sorted(X)  # отсортируем\n",
    "        X = [x for x in X if x >= 0]  # уберем отрицательные значения\n",
    "        X_matrix.append(X)\n",
    "    return X_matrix\n",
    "\n",
    "\n",
    "def print_for_find_maximum_profit(profit, paths):\n",
    "    for i in range(1, len(paths) + 1):\n",
    "        print(\"Variant {0}:\".format(i))\n",
    "        u = paths[i - 1]\n",
    "        for k in range(0, len(u)):\n",
    "            print(\"It should be spent {0} on company {1}\".format(u[k], k + 1))\n",
    "    print(\"Total profit is {0}\".format(profit))\n",
    "\n",
    "\n",
    "def find_maximum_profit(profit_matrix, capital):\n",
    "    \"\"\"\n",
    "    :param profit_matrix: лист из листов с доходом от предприятий\n",
    "    :param capital: начальный капитал\n",
    "    :return: словарь, в котором хранится максимальный прибыли и массив из последовательнойтей управлений, которые приведут к максимальное прибыли\n",
    "    \"\"\"\n",
    "\n",
    "    # заполняем переменные, которые понядобятся нам для вычисления\n",
    "    U_matrix = calc_possible_u(profit_matrix, step)  # возможные управления\n",
    "    X_matrix = calc_possible_x(profit_matrix, step, capital)  # возможные состояния\n",
    "    num_companies = len(profit_matrix)  # кол-во компаний\n",
    "    F = {}  # хеш-таблица, в которой мы храним все значения функции Беллмана\n",
    "\n",
    "    # идем от (num_companies - 1) до 0\n",
    "    for k in range(num_companies - 1, -1, -1):\n",
    "\n",
    "        # # заполняем лист возможных состояний и управлений\n",
    "        X = [i for i in X_matrix[k]]  # заполняем лист возможных x (состояний)\n",
    "        U = [i for i in U_matrix[k]]  # заполняем лист возможных u (управлений)\n",
    "\n",
    "        #идем по возможным состояниям\n",
    "        for x in X:\n",
    "\n",
    "            # перебираем все возможные управления\n",
    "            w_list = []\n",
    "            for u in U:\n",
    "                if u > x:  # если наше управление предполагает траты большие, чем у нас есть денег\n",
    "                    break  # то значит такое управление невалидно => выходим из цикла\n",
    "                # if not x - u in X: # если наше управление предполагает траты большие, чем у нас есть денег\n",
    "                #     break # то значит такое управление невалидно => выходим из цикла\n",
    "                if k == num_companies - 1:  # если мы на шаге, соответсвующему последней компании\n",
    "                    w_list.append([profit_matrix[k][U.index(u)], u])  # сохраняем и значение F, и управление\n",
    "                else:\n",
    "                    w_list.append([profit_matrix[k][U.index(u)] + F[(k + 1, x - u)][\"w\"], u])\n",
    "\n",
    "            # ищем максимальную прибыль\n",
    "            w_max = 0  # максимальная прибыль\n",
    "            for w, u in w_list:\n",
    "                if w > w_max:\n",
    "                    w_max = w\n",
    "            u_max_list = []  # управления, при которых у нас достигается максимальная прибыль\n",
    "            for w, u in w_list:  # сохраняем все возможные управления, соответствующие максимальное прибыли\n",
    "                if w == w_max:\n",
    "                    u_max_list.append(u)\n",
    "\n",
    "            # добавляем значения функции Беллмана\n",
    "            F[(k, x)] = {\n",
    "                \"w\": w_max,\n",
    "                \"u\": u_max_list\n",
    "            }\n",
    "\n",
    "    paths = [{  # лист из возможных управлений, которые привелут к максимальной прибыли\n",
    "        \"x\": capital,\n",
    "        \"u\": []\n",
    "    }]\n",
    "    for k in range(0, num_companies):  # обход графа в ширину\n",
    "        new_paths = []\n",
    "        for path in paths:\n",
    "            x_of_path = path[\"x\"]\n",
    "            u_of_path = path[\"u\"]\n",
    "            U = F[(k, x_of_path)][\"u\"]\n",
    "            for u in U:\n",
    "                new_paths.append({\n",
    "                    \"x\": x_of_path - u,\n",
    "                    \"u\": [*u_of_path, u]\n",
    "                })\n",
    "        paths = new_paths\n",
    "    paths = [path[\"u\"] for path in paths]\n",
    "\n",
    "    maximum_profit = {\n",
    "        \"profit\": F[(0, capital)][\"w\"],\n",
    "        \"paths\": paths\n",
    "    }\n",
    "\n",
    "    print_for_find_maximum_profit(maximum_profit[\"profit\"], maximum_profit[\"paths\"])\n",
    "\n",
    "    return maximum_profit"
   ],
   "metadata": {
    "collapsed": false
   }
  },
  {
   "cell_type": "code",
   "execution_count": 177,
   "outputs": [
    {
     "name": "stdout",
     "output_type": "stream",
     "text": [
      "Variant 1:\n",
      "It should be spent 400 on company 1\n",
      "It should be spent 200 on company 2\n",
      "It should be spent 0 on company 3\n",
      "It should be spent 100 on company 4\n",
      "Total profit is 161\n"
     ]
    }
   ],
   "source": [
    "maximum_profit = find_maximum_profit(profit_of_investment, capital)"
   ],
   "metadata": {
    "collapsed": false
   }
  },
  {
   "cell_type": "code",
   "execution_count": null,
   "outputs": [],
   "source": [],
   "metadata": {
    "collapsed": false
   }
  }
 ],
 "metadata": {
  "kernelspec": {
   "display_name": "Python 3",
   "language": "python",
   "name": "python3"
  },
  "language_info": {
   "codemirror_mode": {
    "name": "ipython",
    "version": 2
   },
   "file_extension": ".py",
   "mimetype": "text/x-python",
   "name": "python",
   "nbconvert_exporter": "python",
   "pygments_lexer": "ipython2",
   "version": "2.7.6"
  }
 },
 "nbformat": 4,
 "nbformat_minor": 0
}
