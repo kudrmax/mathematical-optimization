{
 "cells": [
  {
   "cell_type": "code",
   "execution_count": 1,
   "outputs": [],
   "source": [
    "import numpy as np"
   ],
   "metadata": {
    "collapsed": false
   }
  },
  {
   "cell_type": "code",
   "execution_count": 87,
   "outputs": [],
   "source": [
    "# с семинара\n",
    "\n",
    "num_companies = 4  # кол-во компаний\n",
    "capital = 100  # в тыс. руб.\n",
    "step = 10\n",
    "profit_of_investment = [[0, 7, 13, 20, 33, 35],\n",
    "                        [0, 8, 12, 21, 28, 40],\n",
    "                        [0, 10, 11, 19, 30, 34],\n",
    "                        [0, 6, 9, 24, 30, 36]]"
   ],
   "metadata": {
    "collapsed": false
   }
  },
  {
   "cell_type": "code",
   "execution_count": 84,
   "outputs": [],
   "source": [
    "# из моего варианта\n",
    "\n",
    "num_companies = 4  # кол-во компаний\n",
    "capital = 700  # в тыс. руб.\n",
    "step = 100\n",
    "profit_of_investment = [[0, 28, 45, 65, 78, 90, 102, 113],\n",
    "                        [0, 25, 41, 55, 65, 75, 80, 85],\n",
    "                        [0, 15, 25, 40, 50, 62, 73, 82],\n",
    "                        [0, 20, 33, 42, 48, 53, 56, 58]]"
   ],
   "metadata": {
    "collapsed": false
   }
  },
  {
   "cell_type": "code",
   "execution_count": 88,
   "outputs": [
    {
     "data": {
      "text/plain": "[[0, 1, 2, 3, 4, 5],\n [0, 1, 2, 3, 4, 5],\n [0, 1, 2, 3, 4, 5],\n [0, 1, 2, 3, 4, 5]]"
     },
     "execution_count": 88,
     "metadata": {},
     "output_type": "execute_result"
    }
   ],
   "source": [
    "U_matrix = [[u for u in range(0, min(capital + step, step * len(profit_of_investment[j])), step)] for j in\n",
    "            range(0, len(profit_of_investment))]\n",
    "U_matrix_indexes = [[U.index(u) for u in U] for U in U_matrix]\n",
    "U_matrix_indexes"
   ],
   "metadata": {
    "collapsed": false
   }
  },
  {
   "cell_type": "code",
   "execution_count": 93,
   "outputs": [
    {
     "data": {
      "text/plain": "[[0, 1, 2, 3, 4, 5, 6, 7, 8, 9, 10],\n [0, 1, 2, 3, 4, 5, 6, 7, 8, 9, 10],\n [0, 1, 2, 3, 4, 5, 6, 7, 8, 9, 10],\n [0, 1, 2, 3, 4, 5]]"
     },
     "execution_count": 93,
     "metadata": {},
     "output_type": "execute_result"
    }
   ],
   "source": [
    "X_matrix = []\n",
    "for row in range(0, len(profit_of_investment)):\n",
    "    if row == len(profit_of_investment) - 1:\n",
    "        max_capital = min(capital + step, step * len(profit_of_investment[len(profit_of_investment) - 1]))\n",
    "    else:\n",
    "        max_capital = capital + step\n",
    "    X_row = [x for x in range(0, max_capital, step)]\n",
    "    X_matrix.append(X_row)\n",
    "\n",
    "X_matrix_indexes = [[X.index(x) for x in X] for X in X_matrix]\n",
    "X_matrix_indexes"
   ],
   "metadata": {
    "collapsed": false
   }
  },
  {
   "cell_type": "code",
   "execution_count": 78,
   "outputs": [],
   "source": [
    "# итоговая функция\n",
    "\n",
    "def foo(num_companies, capital, A: np.array):\n",
    "    \"\"\"\n",
    "    :param num_companies: количество предприятий\n",
    "    :param capital: капитал\n",
    "    :param profit_of_investment: двумерный массив\n",
    "    :return:\n",
    "    \"\"\"\n",
    "    F = {}  # F[(k, i)] means F_k(i)\n",
    "    for k in range(num_companies - 1, -1, -1):  # идем от (num_companies - 1) до 0\n",
    "        X_indexes = [i for i in X_matrix_indexes[k]]  # возможные варианты индексов X\n",
    "        print(\"Расчет F(k = {0})\".format(k))\n",
    "        print(\"При X = {0}\".format(X_indexes))\n",
    "        for x_index in X_indexes:\n",
    "            if k == num_companies - 1:\n",
    "                w = A[k][x_index]\n",
    "                u = x_index\n",
    "                F[(k, x_index)] = [w, u]\n",
    "            else:\n",
    "                w_list = []\n",
    "                for u_index in range(0, x_index + 1):\n",
    "                    w_list.append(A[k][u_index] + F[(k + 1, x_index - u_index)][0])\n",
    "                w = max(w_list)\n",
    "                u = w_list.index(w)\n",
    "                F[(k, x_index)] = [w, u]\n",
    "            print(\"F[({0}, {1})] = \".format(k, x_index), F[(k, x_index)])\n",
    "\n",
    "    print(\"Answer = \", F[(0, 7)])\n",
    "\n",
    "    for i in range(1):\n",
    "        # print(\"Variant 1:\")\n",
    "        pass\n",
    "        for j in range(1):\n",
    "            # print(\"It should be spent (*amount1*) on company (*number1*)\")\n",
    "            # print(\"Total profit is (*target value*))\")\n",
    "            pass"
   ],
   "metadata": {
    "collapsed": false
   }
  },
  {
   "cell_type": "code",
   "execution_count": 79,
   "outputs": [
    {
     "name": "stdout",
     "output_type": "stream",
     "text": [
      "Расчет F(k = 3)\n",
      "При X = [0, 1, 2, 3, 4, 5]\n",
      "F[(3, 0)] =  [0, 0]\n",
      "F[(3, 1)] =  [6, 1]\n",
      "F[(3, 2)] =  [9, 2]\n",
      "F[(3, 3)] =  [24, 3]\n",
      "F[(3, 4)] =  [30, 4]\n",
      "F[(3, 5)] =  [36, 5]\n",
      "Расчет F(k = 2)\n",
      "При X = [0, 1, 2, 3, 4, 5]\n",
      "F[(2, 0)] =  [0, 0]\n",
      "F[(2, 1)] =  [10, 1]\n",
      "F[(2, 2)] =  [16, 1]\n",
      "F[(2, 3)] =  [24, 0]\n",
      "F[(2, 4)] =  [34, 1]\n",
      "F[(2, 5)] =  [40, 1]\n",
      "Расчет F(k = 1)\n",
      "При X = [0, 1, 2, 3, 4, 5]\n",
      "F[(1, 0)] =  [0, 0]\n",
      "F[(1, 1)] =  [10, 0]\n",
      "F[(1, 2)] =  [18, 1]\n",
      "F[(1, 3)] =  [24, 0]\n",
      "F[(1, 4)] =  [34, 0]\n",
      "F[(1, 5)] =  [42, 1]\n",
      "Расчет F(k = 0)\n",
      "При X = [0, 1, 2, 3, 4, 5]\n",
      "F[(0, 0)] =  [0, 0]\n",
      "F[(0, 1)] =  [10, 0]\n",
      "F[(0, 2)] =  [18, 0]\n",
      "F[(0, 3)] =  [25, 1]\n",
      "F[(0, 4)] =  [34, 0]\n",
      "F[(0, 5)] =  [43, 4]\n"
     ]
    },
    {
     "ename": "KeyError",
     "evalue": "(0, 7)",
     "output_type": "error",
     "traceback": [
      "\u001B[0;31m---------------------------------------------------------------------------\u001B[0m",
      "\u001B[0;31mKeyError\u001B[0m                                  Traceback (most recent call last)",
      "Cell \u001B[0;32mIn[79], line 1\u001B[0m\n\u001B[0;32m----> 1\u001B[0m \u001B[43mfoo\u001B[49m\u001B[43m(\u001B[49m\u001B[43mnum_companies\u001B[49m\u001B[43m,\u001B[49m\u001B[43m \u001B[49m\u001B[43mcapital\u001B[49m\u001B[43m,\u001B[49m\u001B[43m \u001B[49m\u001B[43mprofit_of_investment\u001B[49m\u001B[43m)\u001B[49m\n",
      "Cell \u001B[0;32mIn[78], line 29\u001B[0m, in \u001B[0;36mfoo\u001B[0;34m(num_companies, capital, A)\u001B[0m\n\u001B[1;32m     26\u001B[0m             F[(k, x_index)] \u001B[38;5;241m=\u001B[39m [w, u]\n\u001B[1;32m     27\u001B[0m         \u001B[38;5;28mprint\u001B[39m(\u001B[38;5;124m\"\u001B[39m\u001B[38;5;124mF[(\u001B[39m\u001B[38;5;132;01m{0}\u001B[39;00m\u001B[38;5;124m, \u001B[39m\u001B[38;5;132;01m{1}\u001B[39;00m\u001B[38;5;124m)] = \u001B[39m\u001B[38;5;124m\"\u001B[39m\u001B[38;5;241m.\u001B[39mformat(k, x_index), F[(k, x_index)])\n\u001B[0;32m---> 29\u001B[0m \u001B[38;5;28mprint\u001B[39m(\u001B[38;5;124m\"\u001B[39m\u001B[38;5;124mAnswer = \u001B[39m\u001B[38;5;124m\"\u001B[39m, \u001B[43mF\u001B[49m\u001B[43m[\u001B[49m\u001B[43m(\u001B[49m\u001B[38;5;241;43m0\u001B[39;49m\u001B[43m,\u001B[49m\u001B[43m \u001B[49m\u001B[38;5;241;43m7\u001B[39;49m\u001B[43m)\u001B[49m\u001B[43m]\u001B[49m)\n\u001B[1;32m     31\u001B[0m \u001B[38;5;28;01mfor\u001B[39;00m i \u001B[38;5;129;01min\u001B[39;00m \u001B[38;5;28mrange\u001B[39m(\u001B[38;5;241m1\u001B[39m):\n\u001B[1;32m     32\u001B[0m     \u001B[38;5;66;03m# print(\"Variant 1:\")\u001B[39;00m\n\u001B[1;32m     33\u001B[0m     \u001B[38;5;28;01mpass\u001B[39;00m\n",
      "\u001B[0;31mKeyError\u001B[0m: (0, 7)"
     ]
    }
   ],
   "source": [
    "foo(num_companies, capital, profit_of_investment)"
   ],
   "metadata": {
    "collapsed": false
   }
  },
  {
   "cell_type": "code",
   "execution_count": null,
   "outputs": [],
   "source": [],
   "metadata": {
    "collapsed": false
   }
  }
 ],
 "metadata": {
  "kernelspec": {
   "display_name": "Python 3",
   "language": "python",
   "name": "python3"
  },
  "language_info": {
   "codemirror_mode": {
    "name": "ipython",
    "version": 2
   },
   "file_extension": ".py",
   "mimetype": "text/x-python",
   "name": "python",
   "nbconvert_exporter": "python",
   "pygments_lexer": "ipython2",
   "version": "2.7.6"
  }
 },
 "nbformat": 4,
 "nbformat_minor": 0
}
