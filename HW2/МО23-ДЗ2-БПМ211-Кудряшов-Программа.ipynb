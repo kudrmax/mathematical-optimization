{
 "cells": [
  {
   "cell_type": "code",
   "execution_count": 100,
   "outputs": [],
   "source": [
    "import numpy as np"
   ],
   "metadata": {
    "collapsed": false
   }
  },
  {
   "cell_type": "code",
   "execution_count": 161,
   "outputs": [],
   "source": [
    "# с семинара\n",
    "\n",
    "num_companies = 4  # кол-во компаний\n",
    "capital = 100  # в тыс. руб.\n",
    "step = 10\n",
    "profit_of_investment = [[0, 7, 13, 20, 33, 35],\n",
    "                        [0, 8, 12, 21, 28, 40],\n",
    "                        [0, 10, 11, 19, 30, 34],\n",
    "                        [0, 6, 9, 24, 30, 36]]"
   ],
   "metadata": {
    "collapsed": false
   }
  },
  {
   "cell_type": "code",
   "execution_count": 102,
   "outputs": [],
   "source": [
    "# из моего варианта\n",
    "\n",
    "num_companies = 4  # кол-во компаний\n",
    "capital = 700  # в тыс. руб.\n",
    "step = 100\n",
    "profit_of_investment = [[0, 28, 45, 65, 78, 90, 102, 113],\n",
    "                        [0, 25, 41, 55, 65, 75, 80, 85],\n",
    "                        [0, 15, 25, 40, 50, 62, 73, 82],\n",
    "                        [0, 20, 33, 42, 48, 53, 56, 58]]"
   ],
   "metadata": {
    "collapsed": false
   }
  },
  {
   "cell_type": "code",
   "execution_count": 110,
   "outputs": [
    {
     "data": {
      "text/plain": "[[0, 1, 2, 3, 4, 5],\n [0, 1, 2, 3, 4, 5],\n [0, 1, 2, 3, 4, 5],\n [0, 1, 2, 3, 4, 5]]"
     },
     "execution_count": 110,
     "metadata": {},
     "output_type": "execute_result"
    }
   ],
   "source": [
    "U_matrix = [[u for u in range(0, min(capital + step, step * len(profit_of_investment[j])), step)] for j in\n",
    "            range(0, len(profit_of_investment))]\n",
    "U_matrix_indexes = [[U.index(u) for u in U] for U in U_matrix]\n",
    "U_matrix_indexes"
   ],
   "metadata": {
    "collapsed": false
   }
  },
  {
   "cell_type": "code",
   "execution_count": 111,
   "outputs": [
    {
     "data": {
      "text/plain": "[[0, 1, 2, 3, 4, 5, 6, 7, 8, 9, 10],\n [0, 1, 2, 3, 4, 5, 6, 7, 8, 9, 10],\n [0, 1, 2, 3, 4, 5, 6, 7, 8, 9, 10],\n [0, 1, 2, 3, 4, 5]]"
     },
     "execution_count": 111,
     "metadata": {},
     "output_type": "execute_result"
    }
   ],
   "source": [
    "X_matrix = []\n",
    "for row in range(0, len(profit_of_investment)):\n",
    "    if row == len(profit_of_investment) - 1:\n",
    "        max_capital = min(capital + step, step * len(profit_of_investment[len(profit_of_investment) - 1]))\n",
    "    else:\n",
    "        max_capital = capital + step\n",
    "    X_row = [x for x in range(0, max_capital, step)]\n",
    "    X_matrix.append(X_row)\n",
    "\n",
    "X_matrix_indexes = [[X.index(x) for x in X] for X in X_matrix]\n",
    "X_matrix_indexes"
   ],
   "metadata": {
    "collapsed": false
   }
  },
  {
   "cell_type": "code",
   "execution_count": 153,
   "outputs": [],
   "source": [
    "# my test case\n",
    "\n",
    "num_companies = 3  # кол-во компаний\n",
    "capital = 50  # в тыс. руб.\n",
    "step = 10\n",
    "profit_of_investment = [[0, 1],\n",
    "                        [0, 1, 2, 3],\n",
    "                        [0, 1, 2]]"
   ],
   "metadata": {
    "collapsed": false
   }
  },
  {
   "cell_type": "code",
   "execution_count": 162,
   "outputs": [
    {
     "data": {
      "text/plain": "[[0, 10, 20, 30, 40, 50],\n [0, 10, 20, 30, 40, 50],\n [0, 10, 20, 30, 40, 50],\n [0, 10, 20, 30, 40, 50]]"
     },
     "execution_count": 162,
     "metadata": {},
     "output_type": "execute_result"
    }
   ],
   "source": [
    "# считаем возможные управления (U_matrix)\n",
    "\n",
    "U_matrix = []\n",
    "for k in range(0, num_companies): # идем по предприятиям\n",
    "    max_u_index = len(profit_of_investment[k])\n",
    "    U = [i * step for i in range(max_u_index)]\n",
    "    U_matrix.append(U)\n",
    "\n",
    "U_matrix"
   ],
   "metadata": {
    "collapsed": false
   }
  },
  {
   "cell_type": "code",
   "execution_count": 163,
   "outputs": [
    {
     "data": {
      "text/plain": "[[100, 90, 80, 70, 60, 50],\n [0, 10, 20, 30, 40, 50, 60, 70, 80, 90, 100],\n [0, 10, 20, 30, 40, 50, 60, 70, 80, 90, 100],\n [0, 10, 20, 30, 40, 50, 60, 70, 80, 90, 100]]"
     },
     "execution_count": 163,
     "metadata": {},
     "output_type": "execute_result"
    }
   ],
   "source": [
    "# считаем возможные состояния (X_matrix)\n",
    "\n",
    "X_matrix = []\n",
    "x_initial = capital\n",
    "for k in range(0, num_companies): # идем по предприятиям\n",
    "    X = []\n",
    "    if k == 0:\n",
    "        X = [x_initial - u for u in U_matrix[k]]\n",
    "    else:\n",
    "        # посчитаем все возможные состояния после того как подействуем управлением u(k) на x(k - 1)\n",
    "        X = []\n",
    "        for x in X_matrix[k - 1]:\n",
    "            for u in U_matrix[k]:\n",
    "                X.append(x - u)\n",
    "        X = list(set(X)) # удалим дубликаты\n",
    "        X = sorted(X) # отсортируем\n",
    "        X = [x for x in X if x >= 0]# уберем отрицательные значения\n",
    "\n",
    "        # min_u = min(U_matrix[k])\n",
    "        # max_u = max(U_matrix[k])\n",
    "        # min_prev_x = min(X_matrix[k - 1])\n",
    "        # max_prev_x = max(X_matrix[k - 1])\n",
    "        # X = [x for x in range (min_prev_x - max_u, max_prev_x)]\n",
    "    X_matrix.append(X)\n",
    "\n",
    "X_matrix"
   ],
   "metadata": {
    "collapsed": false
   }
  },
  {
   "cell_type": "code",
   "execution_count": 168,
   "outputs": [
    {
     "name": "stdout",
     "output_type": "stream",
     "text": [
      "Расчет F(k = 3) при X = [0, 10, 20, 30, 40, 50, 60, 70, 80, 90, 100]\n",
      "F(3, 0) =  [0, 0]\n",
      "F(3, 10) =  [6, 10]\n",
      "F(3, 20) =  [9, 20]\n",
      "F(3, 30) =  [24, 30]\n",
      "F(3, 40) =  [30, 40]\n",
      "F(3, 50) =  [36, 50]\n",
      "F(3, 60) =  [0, 60]\n",
      "F(3, 70) =  [0, 70]\n",
      "F(3, 80) =  [0, 80]\n",
      "F(3, 90) =  [0, 90]\n",
      "F(3, 100) =  [0, 100]\n",
      "Расчет F(k = 2) при X = [0, 10, 20, 30, 40, 50, 60, 70, 80, 90, 100]\n"
     ]
    },
    {
     "ename": "KeyError",
     "evalue": "(3, -1)",
     "output_type": "error",
     "traceback": [
      "\u001B[0;31m---------------------------------------------------------------------------\u001B[0m",
      "\u001B[0;31mKeyError\u001B[0m                                  Traceback (most recent call last)",
      "Cell \u001B[0;32mIn[168], line 42\u001B[0m\n\u001B[1;32m     36\u001B[0m         \u001B[38;5;28;01mfor\u001B[39;00m j \u001B[38;5;129;01min\u001B[39;00m \u001B[38;5;28mrange\u001B[39m(\u001B[38;5;241m1\u001B[39m):\n\u001B[1;32m     37\u001B[0m             \u001B[38;5;66;03m# print(\"It should be spent (*amount1*) on company (*number1*)\")\u001B[39;00m\n\u001B[1;32m     38\u001B[0m             \u001B[38;5;66;03m# print(\"Total profit is (*target value*))\")\u001B[39;00m\n\u001B[1;32m     39\u001B[0m             \u001B[38;5;28;01mpass\u001B[39;00m\n\u001B[0;32m---> 42\u001B[0m \u001B[43mfoo\u001B[49m\u001B[43m(\u001B[49m\u001B[43mnum_companies\u001B[49m\u001B[43m,\u001B[49m\u001B[43m \u001B[49m\u001B[43mcapital\u001B[49m\u001B[43m,\u001B[49m\u001B[43m \u001B[49m\u001B[43mprofit_of_investment\u001B[49m\u001B[43m)\u001B[49m\n",
      "Cell \u001B[0;32mIn[168], line 25\u001B[0m, in \u001B[0;36mfoo\u001B[0;34m(num_companies, capital, A)\u001B[0m\n\u001B[1;32m     23\u001B[0m w_list \u001B[38;5;241m=\u001B[39m []\n\u001B[1;32m     24\u001B[0m \u001B[38;5;28;01mfor\u001B[39;00m u \u001B[38;5;129;01min\u001B[39;00m U_matrix[k]:\n\u001B[0;32m---> 25\u001B[0m     w_list\u001B[38;5;241m.\u001B[39mappend(A[k][U\u001B[38;5;241m.\u001B[39mindex(u)] \u001B[38;5;241m+\u001B[39m \u001B[43mF\u001B[49m\u001B[43m[\u001B[49m\u001B[43m(\u001B[49m\u001B[43mk\u001B[49m\u001B[43m \u001B[49m\u001B[38;5;241;43m+\u001B[39;49m\u001B[43m \u001B[49m\u001B[38;5;241;43m1\u001B[39;49m\u001B[43m,\u001B[49m\u001B[43m \u001B[49m\u001B[43mX\u001B[49m\u001B[38;5;241;43m.\u001B[39;49m\u001B[43mindex\u001B[49m\u001B[43m(\u001B[49m\u001B[43mx\u001B[49m\u001B[43m)\u001B[49m\u001B[43m \u001B[49m\u001B[38;5;241;43m-\u001B[39;49m\u001B[43m \u001B[49m\u001B[43mU\u001B[49m\u001B[38;5;241;43m.\u001B[39;49m\u001B[43mindex\u001B[49m\u001B[43m(\u001B[49m\u001B[43mu\u001B[49m\u001B[43m)\u001B[49m\u001B[43m)\u001B[49m\u001B[43m]\u001B[49m[\u001B[38;5;241m0\u001B[39m])\n\u001B[1;32m     26\u001B[0m w \u001B[38;5;241m=\u001B[39m \u001B[38;5;28mmax\u001B[39m(w_list)\n\u001B[1;32m     27\u001B[0m u \u001B[38;5;241m=\u001B[39m w_list\u001B[38;5;241m.\u001B[39mindex(w)\n",
      "\u001B[0;31mKeyError\u001B[0m: (3, -1)"
     ]
    }
   ],
   "source": [
    "# итоговая функция\n",
    "\n",
    "def foo(num_companies, capital, A: np.array):\n",
    "    \"\"\"\n",
    "    :param num_companies: количество предприятий\n",
    "    :param capital: капитал\n",
    "    :param profit_of_investment: двумерный массив\n",
    "    :return:\n",
    "    \"\"\"\n",
    "    F = {}  # F[(k, i)] means (F_k(i), U_k)\n",
    "    for k in range(num_companies - 1, -1, -1):  # идем от (num_companies - 1) до 0\n",
    "        X = [i for i in X_matrix[k]]\n",
    "        print(\"Расчет F(k = {0}) при X = {1}\".format(k, X))\n",
    "        for x in X:\n",
    "            if k == num_companies - 1:\n",
    "                if X.index(x) > len(A[k]) - 1:\n",
    "                    w = 0\n",
    "                else:\n",
    "                    w = A[k][X.index(x)]\n",
    "                u = x\n",
    "                F[(k, x)] = [w, u]\n",
    "            else:\n",
    "                w_list = []\n",
    "                for u in U_matrix[k]:\n",
    "                    w_list.append(A[k][U.index(u)] + F[(k + 1, X.index(x) - U.index(u))][0])\n",
    "                w = max(w_list)\n",
    "                u = w_list.index(w)\n",
    "                F[(k, x)] = [w, u]\n",
    "            print(\"F({0}, {1}) = \".format(k, x), F[(k, x)])\n",
    "\n",
    "    print(\"Answer = \", F[(0, capital / step)])\n",
    "\n",
    "    for i in range(1):\n",
    "        # print(\"Variant 1:\")\n",
    "        pass\n",
    "        for j in range(1):\n",
    "            # print(\"It should be spent (*amount1*) on company (*number1*)\")\n",
    "            # print(\"Total profit is (*target value*))\")\n",
    "            pass\n",
    "\n",
    "\n",
    "foo(num_companies, capital, profit_of_investment)"
   ],
   "metadata": {
    "collapsed": false
   }
  },
  {
   "cell_type": "code",
   "execution_count": null,
   "outputs": [],
   "source": [],
   "metadata": {
    "collapsed": false
   }
  }
 ],
 "metadata": {
  "kernelspec": {
   "display_name": "Python 3",
   "language": "python",
   "name": "python3"
  },
  "language_info": {
   "codemirror_mode": {
    "name": "ipython",
    "version": 2
   },
   "file_extension": ".py",
   "mimetype": "text/x-python",
   "name": "python",
   "nbconvert_exporter": "python",
   "pygments_lexer": "ipython2",
   "version": "2.7.6"
  }
 },
 "nbformat": 4,
 "nbformat_minor": 0
}
