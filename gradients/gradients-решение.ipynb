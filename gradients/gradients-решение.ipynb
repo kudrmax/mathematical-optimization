{
 "cells": [
  {
   "cell_type": "code",
   "execution_count": 1,
   "outputs": [],
   "source": [
    "# библиотеки\n",
    "\n",
    "import numpy as np  # для математических вычислений\n",
    "import sympy as sp  # для символьного вычисления\n",
    "from scipy.optimize import minimize_scalar  # для одномерной задачи минимизации (для alpha)"
   ],
   "metadata": {
    "collapsed": false
   }
  },
  {
   "cell_type": "code",
   "execution_count": 2,
   "outputs": [],
   "source": [
    "# глобальные переменные\n",
    "\n",
    "x, y = sp.symbols('x y')\n",
    "X = sp.Matrix([x, y])  # вектор из переменных\n",
    "alpha = sp.symbols('alpha')\n",
    "f = 1.5 * y ** 2 + x ** 2 + y - x + 3  # функция\n",
    "grad = sp.Matrix([sp.diff(f, X_i) for X_i in X])  # градиент\n",
    "start_point = sp.Matrix([0.4, -0.23])\n",
    "eps = 0.01"
   ],
   "metadata": {
    "collapsed": false
   }
  },
  {
   "cell_type": "code",
   "execution_count": 3,
   "outputs": [],
   "source": [
    "def error_value(approximate_point, actual_point):\n",
    "    \"\"\"\n",
    "    Функция для вычисления ошибки между реальным корнем, и корнем, полученным численно\n",
    "    \"\"\"\n",
    "    delta_x = approximate_point - actual_point  # разность точек\n",
    "    delta_x = delta_x[0] ** 2 + delta_x[1] ** 2  # расстояние между точками\n",
    "    delta_func_val = f.subs(zip(X, approximate_point)) - f.subs(zip(X, actual_point))  # разность значений\n",
    "\n",
    "    print(\"Разница точки: \", delta_x)\n",
    "    print(\"Разница значения: \", delta_func_val)\n",
    "\n",
    "\n",
    "def print_data(X_point, k):\n",
    "    \"\"\"\n",
    "    Функция для вывода информации о конкретном шаге численного решения\n",
    "    \"\"\"\n",
    "    print(\"Номер итерации: \", k)\n",
    "    print(\"Point: \", list(X_point))\n",
    "    print(\"Gradient: \", list(grad.subs(zip(X, X_point))))\n",
    "    print()"
   ],
   "metadata": {
    "collapsed": false
   }
  },
  {
   "cell_type": "markdown",
   "source": [
    "# Метод сопряженных градиентов"
   ],
   "metadata": {
    "collapsed": false
   }
  },
  {
   "cell_type": "code",
   "execution_count": 4,
   "outputs": [],
   "source": [
    "def stopping_criteria_conjugate_gradient(h):\n",
    "    \"\"\"\n",
    "    Функция, возвращающая true, если критерий остановки выполнен и нужно остановиться для метода сопряженных градиентов\n",
    "    \"\"\"\n",
    "    if h is None:\n",
    "        return False\n",
    "    return np.dot(list(h), list(h)) < eps\n",
    "\n",
    "\n",
    "def calc_new_point_conjugate_gradient(X_point, h):\n",
    "    \"\"\"\n",
    "    Вычисление следуюшего шага методом сопряженных градиентов\n",
    "    \"\"\"\n",
    "    h_next = -grad.subs(zip(X, X_point))  # антиградиент\n",
    "    if h is not None:\n",
    "        betta = np.dot(list(h_next), list(h_next)) / np.dot(list(h), list(h))  # считаем betta\n",
    "        h_next += betta * h  # считаем новый h\n",
    "\n",
    "    X_point = X_point + (h_next * alpha)  # считаем новую точку\n",
    "    alpha_min = minimize_scalar(sp.lambdify([alpha], f.subs(zip(X, X_point)))).x  # минимизируем alpha\n",
    "    X_point = X_point.subs(alpha, alpha_min)  # подставляем alpha\n",
    "    return X_point, h_next\n",
    "\n",
    "\n",
    "def conjugate_gradient():\n",
    "    \"\"\"\n",
    "    Функция, для нахождения корня уравнения методом наискорейшего градинетного спуска\n",
    "    \"\"\"\n",
    "    print(\"Метод сопряженных градиентов\\n\")\n",
    "\n",
    "    k = 0\n",
    "    h = None\n",
    "    X_point = sp.Matrix(start_point)\n",
    "\n",
    "    print_data(X_point, k)\n",
    "    while not stopping_criteria_conjugate_gradient(h):\n",
    "        X_point, h = calc_new_point_conjugate_gradient(X_point, h)  # вычисляем новую точку\n",
    "        k += 1\n",
    "        print_data(X_point, k)\n",
    "\n",
    "    print(\"Всего итераций: \", k)\n",
    "    print(\"Point: \", list(X_point))\n",
    "    func_value = f.subs(zip(X, X_point))\n",
    "    print(\"Function value: \", func_value)\n",
    "    print()\n",
    "\n",
    "    return X_point, func_value"
   ],
   "metadata": {
    "collapsed": false
   }
  },
  {
   "cell_type": "markdown",
   "source": [
    "# Наискорейший градиентный спуск"
   ],
   "metadata": {
    "collapsed": false
   }
  },
  {
   "cell_type": "code",
   "execution_count": 5,
   "outputs": [],
   "source": [
    "def stopping_criteria_steepest_descent_gradient(X_point):\n",
    "    \"\"\"\n",
    "    Функция, возвращающая true, если критерий остановки выполнен и нужно остановиться для наискорейшего градиентного спуска\n",
    "    \"\"\"\n",
    "    return np.max([np.abs(sp.diff(f, X_i).subs(zip(X, X_point))) for X_i in X]) < eps\n",
    "\n",
    "\n",
    "def calc_new_point_steepest_descent_gradient(X_point):\n",
    "    \"\"\"\n",
    "    Вычисление следуюшего шага методом наискорейшего градинетного спуска\n",
    "    \"\"\"\n",
    "    X_point = X_point + (grad * sp.Matrix([alpha])).subs(zip(X, X_point))  # находим новую точку\n",
    "    alpha_min = minimize_scalar(sp.lambdify([alpha], f.subs(zip(X, X_point)))).x  # минимизируем alpha\n",
    "    X_point = X_point.subs(alpha, alpha_min)  # подставляем alpha\n",
    "    return X_point\n",
    "\n",
    "\n",
    "def steepest_descent_gradient():\n",
    "    \"\"\"\n",
    "    Функция, для нахождения корня уравнения методом наискорейшего градинетного спуска\n",
    "    \"\"\"\n",
    "    print(\"Метод наискорейшего градиентного спуска\\n\")\n",
    "\n",
    "    k = 0\n",
    "    X_point = sp.Matrix(start_point)\n",
    "\n",
    "    print_data(X_point, k)\n",
    "    while not stopping_criteria_steepest_descent_gradient(X_point):\n",
    "        X_point = calc_new_point_steepest_descent_gradient(X_point)  # вычисляем новую точку\n",
    "        k += 1  # считаем кол-во итераций\n",
    "        print_data(X_point, k)\n",
    "\n",
    "    print(\"Всего итераций: \", k)\n",
    "    print(\"Point: \", list(X_point))\n",
    "    func_value = f.subs(zip(X, X_point))\n",
    "    print(\"Function value: \", f.subs(zip(X, X_point)))\n",
    "    print()\n",
    "\n",
    "    return X_point, func_value"
   ],
   "metadata": {
    "collapsed": false
   }
  },
  {
   "cell_type": "code",
   "execution_count": 6,
   "outputs": [
    {
     "name": "stdout",
     "output_type": "stream",
     "text": [
      "Метод наискорейшего градиентного спуска\n",
      "\n",
      "Номер итерации:  0\n",
      "Point:  [0.400000000000000, -0.230000000000000]\n",
      "Gradient:  [-0.200000000000000, 0.310000000000000]\n",
      "\n",
      "Номер итерации:  1\n",
      "Point:  [0.473907144422272, -0.344556073854522]\n",
      "Gradient:  [-0.0521857111554551, -0.0336682215635666]\n",
      "\n",
      "Номер итерации:  2\n",
      "Point:  [0.496656901551118, -0.329878802115336]\n",
      "Gradient:  [-0.00668619689776329, 0.0103635936539929]\n",
      "\n",
      "Номер итерации:  3\n",
      "Point:  [0.499127686867178, -0.333708515091700]\n",
      "Gradient:  [-0.00174462626564453, -0.00112554527510067]\n",
      "\n",
      "Всего итераций:  3\n",
      "Point:  [0.499127686867178, -0.333708515091700]\n",
      "Function value:  2.58333430540556\n",
      "\n",
      "Разница точки:  9.01691553505455e-7\n",
      "Разница значения:  9.72072229821208e-7\n"
     ]
    }
   ],
   "source": [
    "# метод наискорейшего градиентного спуска\n",
    "\n",
    "approximate_point = steepest_descent_gradient()[0]\n",
    "actual_point = sp.Matrix([1 / 2, -1 / 3])  # точка полученная аналитически\n",
    "\n",
    "error_value(approximate_point, actual_point)"
   ],
   "metadata": {
    "collapsed": false
   }
  },
  {
   "cell_type": "code",
   "execution_count": 7,
   "outputs": [
    {
     "name": "stdout",
     "output_type": "stream",
     "text": [
      "Метод сопряженных градиентов\n",
      "\n",
      "Номер итерации:  0\n",
      "Point:  [0.400000000000000, -0.230000000000000]\n",
      "Gradient:  [-0.200000000000000, 0.310000000000000]\n",
      "\n",
      "Номер итерации:  1\n",
      "Point:  [0.473907148769748, -0.344556080593110]\n",
      "Gradient:  [-0.0521857024605032, -0.0336682417793299]\n",
      "\n",
      "Номер итерации:  2\n",
      "Point:  [0.499999999878337, -0.333333330495203]\n",
      "Gradient:  [-2.43325248838744e-10, 8.51439052595993e-9]\n",
      "\n",
      "Всего итераций:  2\n",
      "Point:  [0.499999999878337, -0.333333330495203]\n",
      "Function value:  2.58333333333333\n",
      "\n",
      "Разница точки:  8.06978468624240e-18\n",
      "Разница значения:  0\n"
     ]
    }
   ],
   "source": [
    "# метод сопряженных направлений\n",
    "\n",
    "approximate_point = conjugate_gradient()[0]\n",
    "actual_point = sp.Matrix([1 / 2, -1 / 3])  # точка полученная аналитически\n",
    "\n",
    "error_value(approximate_point, actual_point)"
   ],
   "metadata": {
    "collapsed": false
   }
  },
  {
   "cell_type": "code",
   "execution_count": 186,
   "outputs": [],
   "source": [],
   "metadata": {
    "collapsed": false
   }
  }
 ],
 "metadata": {
  "kernelspec": {
   "display_name": "Python 3",
   "language": "python",
   "name": "python3"
  },
  "language_info": {
   "codemirror_mode": {
    "name": "ipython",
    "version": 2
   },
   "file_extension": ".py",
   "mimetype": "text/x-python",
   "name": "python",
   "nbconvert_exporter": "python",
   "pygments_lexer": "ipython2",
   "version": "2.7.6"
  }
 },
 "nbformat": 4,
 "nbformat_minor": 0
}
